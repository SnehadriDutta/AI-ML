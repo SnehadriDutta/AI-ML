{
  "nbformat": 4,
  "nbformat_minor": 0,
  "metadata": {
    "colab": {
      "provenance": [],
      "collapsed_sections": []
    },
    "kernelspec": {
      "name": "python3",
      "display_name": "Python 3"
    },
    "language_info": {
      "name": "python"
    }
  },
  "cells": [
    {
      "cell_type": "code",
      "execution_count": 1,
      "metadata": {
        "id": "P3CNkwjeZvgV"
      },
      "outputs": [],
      "source": [
        "import pandas as pd\n",
        "import matplotlib.pyplot as plt\n",
        "import numpy as np\n",
        "from dateutil.parser import parse\n",
        "import warnings\n",
        "warnings.filterwarnings('ignore')\n",
        "plt.rcParams['figure.figsize'] = (10,5)"
      ]
    },
    {
      "cell_type": "code",
      "source": [
        "data = pd.read_csv(\"Stock_Price.csv\", parse_dates=['Date'], index_col='Date')\n",
        "data.head(10)"
      ],
      "metadata": {
        "colab": {
          "base_uri": "https://localhost:8080/",
          "height": 455
        },
        "id": "F_OQoA_PaKdy",
        "outputId": "e81dbdeb-0d70-4914-ef67-55f7d531a1e7"
      },
      "execution_count": 2,
      "outputs": [
        {
          "output_type": "execute_result",
          "data": {
            "text/plain": [
              "                  Open        High         Low       Close   Adj_Close  \\\n",
              "Date                                                                     \n",
              "2000-03-27    3.812500    4.156250    3.812500    4.125000    4.125000   \n",
              "2000-03-28    4.125000    4.125000    4.000000    4.015625    4.015625   \n",
              "2000-03-29    4.000000    4.031250    3.953125    4.000000    4.000000   \n",
              "2000-03-30    4.000000    4.000000    3.843750    3.843750    3.843750   \n",
              "2000-03-31    3.734375    3.734375    3.390625    3.390625    3.390625   \n",
              "...                ...         ...         ...         ...         ...   \n",
              "2017-08-31  112.820000  113.790001  112.440002  113.660004  113.660004   \n",
              "2017-09-01  113.790001  114.099998  112.790001  113.309998  113.309998   \n",
              "2017-09-05  112.519997  113.529999  111.160004  111.870003  111.870003   \n",
              "2017-09-06  112.029999  112.489998  110.250000  112.230003  112.230003   \n",
              "2017-09-07  112.459999  112.900002  112.000000  112.339996  112.339996   \n",
              "\n",
              "             Volume  \n",
              "Date                 \n",
              "2000-03-27  3675600  \n",
              "2000-03-28  1077600  \n",
              "2000-03-29   437200  \n",
              "2000-03-30  1883600  \n",
              "2000-03-31  7931600  \n",
              "...             ...  \n",
              "2017-08-31  1091400  \n",
              "2017-09-01   950000  \n",
              "2017-09-05  1805200  \n",
              "2017-09-06  2136700  \n",
              "2017-09-07  1251600  \n",
              "\n",
              "[4391 rows x 6 columns]"
            ],
            "text/html": [
              "\n",
              "  <div id=\"df-325ad966-f502-4fa5-be6e-154b2e404ba9\">\n",
              "    <div class=\"colab-df-container\">\n",
              "      <div>\n",
              "<style scoped>\n",
              "    .dataframe tbody tr th:only-of-type {\n",
              "        vertical-align: middle;\n",
              "    }\n",
              "\n",
              "    .dataframe tbody tr th {\n",
              "        vertical-align: top;\n",
              "    }\n",
              "\n",
              "    .dataframe thead th {\n",
              "        text-align: right;\n",
              "    }\n",
              "</style>\n",
              "<table border=\"1\" class=\"dataframe\">\n",
              "  <thead>\n",
              "    <tr style=\"text-align: right;\">\n",
              "      <th></th>\n",
              "      <th>Open</th>\n",
              "      <th>High</th>\n",
              "      <th>Low</th>\n",
              "      <th>Close</th>\n",
              "      <th>Adj_Close</th>\n",
              "      <th>Volume</th>\n",
              "    </tr>\n",
              "    <tr>\n",
              "      <th>Date</th>\n",
              "      <th></th>\n",
              "      <th></th>\n",
              "      <th></th>\n",
              "      <th></th>\n",
              "      <th></th>\n",
              "      <th></th>\n",
              "    </tr>\n",
              "  </thead>\n",
              "  <tbody>\n",
              "    <tr>\n",
              "      <th>2000-03-27</th>\n",
              "      <td>3.812500</td>\n",
              "      <td>4.156250</td>\n",
              "      <td>3.812500</td>\n",
              "      <td>4.125000</td>\n",
              "      <td>4.125000</td>\n",
              "      <td>3675600</td>\n",
              "    </tr>\n",
              "    <tr>\n",
              "      <th>2000-03-28</th>\n",
              "      <td>4.125000</td>\n",
              "      <td>4.125000</td>\n",
              "      <td>4.000000</td>\n",
              "      <td>4.015625</td>\n",
              "      <td>4.015625</td>\n",
              "      <td>1077600</td>\n",
              "    </tr>\n",
              "    <tr>\n",
              "      <th>2000-03-29</th>\n",
              "      <td>4.000000</td>\n",
              "      <td>4.031250</td>\n",
              "      <td>3.953125</td>\n",
              "      <td>4.000000</td>\n",
              "      <td>4.000000</td>\n",
              "      <td>437200</td>\n",
              "    </tr>\n",
              "    <tr>\n",
              "      <th>2000-03-30</th>\n",
              "      <td>4.000000</td>\n",
              "      <td>4.000000</td>\n",
              "      <td>3.843750</td>\n",
              "      <td>3.843750</td>\n",
              "      <td>3.843750</td>\n",
              "      <td>1883600</td>\n",
              "    </tr>\n",
              "    <tr>\n",
              "      <th>2000-03-31</th>\n",
              "      <td>3.734375</td>\n",
              "      <td>3.734375</td>\n",
              "      <td>3.390625</td>\n",
              "      <td>3.390625</td>\n",
              "      <td>3.390625</td>\n",
              "      <td>7931600</td>\n",
              "    </tr>\n",
              "    <tr>\n",
              "      <th>...</th>\n",
              "      <td>...</td>\n",
              "      <td>...</td>\n",
              "      <td>...</td>\n",
              "      <td>...</td>\n",
              "      <td>...</td>\n",
              "      <td>...</td>\n",
              "    </tr>\n",
              "    <tr>\n",
              "      <th>2017-08-31</th>\n",
              "      <td>112.820000</td>\n",
              "      <td>113.790001</td>\n",
              "      <td>112.440002</td>\n",
              "      <td>113.660004</td>\n",
              "      <td>113.660004</td>\n",
              "      <td>1091400</td>\n",
              "    </tr>\n",
              "    <tr>\n",
              "      <th>2017-09-01</th>\n",
              "      <td>113.790001</td>\n",
              "      <td>114.099998</td>\n",
              "      <td>112.790001</td>\n",
              "      <td>113.309998</td>\n",
              "      <td>113.309998</td>\n",
              "      <td>950000</td>\n",
              "    </tr>\n",
              "    <tr>\n",
              "      <th>2017-09-05</th>\n",
              "      <td>112.519997</td>\n",
              "      <td>113.529999</td>\n",
              "      <td>111.160004</td>\n",
              "      <td>111.870003</td>\n",
              "      <td>111.870003</td>\n",
              "      <td>1805200</td>\n",
              "    </tr>\n",
              "    <tr>\n",
              "      <th>2017-09-06</th>\n",
              "      <td>112.029999</td>\n",
              "      <td>112.489998</td>\n",
              "      <td>110.250000</td>\n",
              "      <td>112.230003</td>\n",
              "      <td>112.230003</td>\n",
              "      <td>2136700</td>\n",
              "    </tr>\n",
              "    <tr>\n",
              "      <th>2017-09-07</th>\n",
              "      <td>112.459999</td>\n",
              "      <td>112.900002</td>\n",
              "      <td>112.000000</td>\n",
              "      <td>112.339996</td>\n",
              "      <td>112.339996</td>\n",
              "      <td>1251600</td>\n",
              "    </tr>\n",
              "  </tbody>\n",
              "</table>\n",
              "<p>4391 rows × 6 columns</p>\n",
              "</div>\n",
              "      <button class=\"colab-df-convert\" onclick=\"convertToInteractive('df-325ad966-f502-4fa5-be6e-154b2e404ba9')\"\n",
              "              title=\"Convert this dataframe to an interactive table.\"\n",
              "              style=\"display:none;\">\n",
              "        \n",
              "  <svg xmlns=\"http://www.w3.org/2000/svg\" height=\"24px\"viewBox=\"0 0 24 24\"\n",
              "       width=\"24px\">\n",
              "    <path d=\"M0 0h24v24H0V0z\" fill=\"none\"/>\n",
              "    <path d=\"M18.56 5.44l.94 2.06.94-2.06 2.06-.94-2.06-.94-.94-2.06-.94 2.06-2.06.94zm-11 1L8.5 8.5l.94-2.06 2.06-.94-2.06-.94L8.5 2.5l-.94 2.06-2.06.94zm10 10l.94 2.06.94-2.06 2.06-.94-2.06-.94-.94-2.06-.94 2.06-2.06.94z\"/><path d=\"M17.41 7.96l-1.37-1.37c-.4-.4-.92-.59-1.43-.59-.52 0-1.04.2-1.43.59L10.3 9.45l-7.72 7.72c-.78.78-.78 2.05 0 2.83L4 21.41c.39.39.9.59 1.41.59.51 0 1.02-.2 1.41-.59l7.78-7.78 2.81-2.81c.8-.78.8-2.07 0-2.86zM5.41 20L4 18.59l7.72-7.72 1.47 1.35L5.41 20z\"/>\n",
              "  </svg>\n",
              "      </button>\n",
              "      \n",
              "  <style>\n",
              "    .colab-df-container {\n",
              "      display:flex;\n",
              "      flex-wrap:wrap;\n",
              "      gap: 12px;\n",
              "    }\n",
              "\n",
              "    .colab-df-convert {\n",
              "      background-color: #E8F0FE;\n",
              "      border: none;\n",
              "      border-radius: 50%;\n",
              "      cursor: pointer;\n",
              "      display: none;\n",
              "      fill: #1967D2;\n",
              "      height: 32px;\n",
              "      padding: 0 0 0 0;\n",
              "      width: 32px;\n",
              "    }\n",
              "\n",
              "    .colab-df-convert:hover {\n",
              "      background-color: #E2EBFA;\n",
              "      box-shadow: 0px 1px 2px rgba(60, 64, 67, 0.3), 0px 1px 3px 1px rgba(60, 64, 67, 0.15);\n",
              "      fill: #174EA6;\n",
              "    }\n",
              "\n",
              "    [theme=dark] .colab-df-convert {\n",
              "      background-color: #3B4455;\n",
              "      fill: #D2E3FC;\n",
              "    }\n",
              "\n",
              "    [theme=dark] .colab-df-convert:hover {\n",
              "      background-color: #434B5C;\n",
              "      box-shadow: 0px 1px 3px 1px rgba(0, 0, 0, 0.15);\n",
              "      filter: drop-shadow(0px 1px 2px rgba(0, 0, 0, 0.3));\n",
              "      fill: #FFFFFF;\n",
              "    }\n",
              "  </style>\n",
              "\n",
              "      <script>\n",
              "        const buttonEl =\n",
              "          document.querySelector('#df-325ad966-f502-4fa5-be6e-154b2e404ba9 button.colab-df-convert');\n",
              "        buttonEl.style.display =\n",
              "          google.colab.kernel.accessAllowed ? 'block' : 'none';\n",
              "\n",
              "        async function convertToInteractive(key) {\n",
              "          const element = document.querySelector('#df-325ad966-f502-4fa5-be6e-154b2e404ba9');\n",
              "          const dataTable =\n",
              "            await google.colab.kernel.invokeFunction('convertToInteractive',\n",
              "                                                     [key], {});\n",
              "          if (!dataTable) return;\n",
              "\n",
              "          const docLinkHtml = 'Like what you see? Visit the ' +\n",
              "            '<a target=\"_blank\" href=https://colab.research.google.com/notebooks/data_table.ipynb>data table notebook</a>'\n",
              "            + ' to learn more about interactive tables.';\n",
              "          element.innerHTML = '';\n",
              "          dataTable['output_type'] = 'display_data';\n",
              "          await google.colab.output.renderOutput(dataTable, element);\n",
              "          const docLink = document.createElement('div');\n",
              "          docLink.innerHTML = docLinkHtml;\n",
              "          element.appendChild(docLink);\n",
              "        }\n",
              "      </script>\n",
              "    </div>\n",
              "  </div>\n",
              "  "
            ]
          },
          "metadata": {},
          "execution_count": 2
        }
      ]
    },
    {
      "cell_type": "code",
      "source": [
        "df_resam = data.resample('D').mean()\n",
        "df = df_resam.bfill()\n",
        "df.isnull().sum()"
      ],
      "metadata": {
        "colab": {
          "base_uri": "https://localhost:8080/"
        },
        "id": "ObrIQNXBaNCn",
        "outputId": "a8924967-3dcd-4bbc-96a3-b7127570b656"
      },
      "execution_count": 3,
      "outputs": [
        {
          "output_type": "execute_result",
          "data": {
            "text/plain": [
              "Open         0\n",
              "High         0\n",
              "Low          0\n",
              "Close        0\n",
              "Adj_Close    0\n",
              "Volume       0\n",
              "dtype: int64"
            ]
          },
          "metadata": {},
          "execution_count": 3
        }
      ]
    },
    {
      "cell_type": "code",
      "source": [
        "df.Close.plot()\n",
        "plt.title(\"Closing\")"
      ],
      "metadata": {
        "colab": {
          "base_uri": "https://localhost:8080/",
          "height": 367
        },
        "id": "OClVu05oaP5H",
        "outputId": "96122616-108c-421a-841c-f1570872644e"
      },
      "execution_count": 4,
      "outputs": [
        {
          "output_type": "execute_result",
          "data": {
            "text/plain": [
              "Text(0.5, 1.0, 'Closing')"
            ]
          },
          "metadata": {},
          "execution_count": 4
        },
        {
          "output_type": "display_data",
          "data": {
            "text/plain": [
              "<Figure size 720x360 with 1 Axes>"
            ],
            "image/png": "[encoded data removed]"
          },
          "metadata": {
            "needs_background": "light"
          }
        }
      ]
    },
    {
      "cell_type": "code",
      "source": [
        "def prepare_dataset(data, size):\n",
        "  x_data = []\n",
        "  y_data = []\n",
        "\n",
        "  l = len(data) - size\n",
        "\n",
        "  for i in range(l):\n",
        "    x = data[i:i+size]\n",
        "    y = data[i+size]\n",
        "    x_data.append(x)\n",
        "    y_data.append(y)\n",
        "\n",
        "  return np.array(x_data), np.array(y_data)"
      ],
      "metadata": {
        "id": "vADe5u6q3-rC"
      },
      "execution_count": 17,
      "outputs": []
    },
    {
      "cell_type": "code",
      "source": [
        "from sklearn.preprocessing import MinMaxScaler\n",
        "scaler = MinMaxScaler(feature_range = (0,1))\n",
        "scaled_data = scaler.fit_transform(data.Close.values.reshape(-1,1))"
      ],
      "metadata": {
        "id": "Qjb0Qkgm8kUB"
      },
      "execution_count": 6,
      "outputs": []
    },
    {
      "cell_type": "code",
      "source": [
        "train_size = int(np.ceil(len(scaled_data) * 0.8))\n",
        "train_size"
      ],
      "metadata": {
        "colab": {
          "base_uri": "https://localhost:8080/"
        },
        "id": "gg9JIZF18_GD",
        "outputId": "37476898-9dd1-42e0-b9b2-3d33151d50fc"
      },
      "execution_count": 7,
      "outputs": [
        {
          "output_type": "execute_result",
          "data": {
            "text/plain": [
              "3514"
            ]
          },
          "metadata": {},
          "execution_count": 7
        }
      ]
    },
    {
      "cell_type": "code",
      "source": [
        "len(scaled_data)"
      ],
      "metadata": {
        "colab": {
          "base_uri": "https://localhost:8080/"
        },
        "id": "q1QacNa-b6ec",
        "outputId": "d957df3c-d4eb-42a5-9dd7-50b809184ed5"
      },
      "execution_count": 9,
      "outputs": [
        {
          "output_type": "execute_result",
          "data": {
            "text/plain": [
              "4392"
            ]
          },
          "metadata": {},
          "execution_count": 9
        }
      ]
    },
    {
      "cell_type": "code",
      "source": [
        "xtrain, ytrain = prepare_dataset(scaled_data[:train_size], 10)\n",
        "xtest, ytest = prepare_dataset(scaled_data[train_size:], 10)"
      ],
      "metadata": {
        "id": "rCQxrbi49JZx"
      },
      "execution_count": 18,
      "outputs": []
    },
    {
      "cell_type": "code",
      "source": [
        "print(xtrain.shape[0], ytrain.shape[0])\n",
        "print(xtest.shape[0], ytest.shape[0])"
      ],
      "metadata": {
        "colab": {
          "base_uri": "https://localhost:8080/"
        },
        "id": "9fMvNRG9mTyc",
        "outputId": "4355d8af-1328-439c-8ec5-662368c52132"
      },
      "execution_count": 19,
      "outputs": [
        {
          "output_type": "stream",
          "name": "stdout",
          "text": [
            "3504 3504\n",
            "868 868\n"
          ]
        }
      ]
    },
    {
      "cell_type": "code",
      "source": [
        "import tensorflow as tf\n",
        "from tensorflow.keras import Sequential\n",
        "from tensorflow.keras.layers import Dense, LSTM, Dropout\n",
        "\n",
        "model = Sequential()\n",
        "model.add(LSTM(128, return_sequences=True, input_shape= (xtrain.shape[1], 1)))\n",
        "model.add(LSTM(64, return_sequences=False))\n",
        "model.add(Dense(25))\n",
        "model.add(Dense(1))\n",
        "model.compile(optimizer='adam', loss='mean_squared_error')\n",
        "\n",
        "r = model.fit(xtrain, ytrain, epochs = 50, batch_size = 100)"
      ],
      "metadata": {
        "colab": {
          "base_uri": "https://localhost:8080/"
        },
        "id": "C5di6mlSnBuM",
        "outputId": "2994c6aa-d7a3-4623-9675-182a7be30a44"
      },
      "execution_count": 20,
      "outputs": [
        {
          "output_type": "stream",
          "name": "stdout",
          "text": [
            "Epoch 1/50\n",
            "36/36 [==============================] - 5s 40ms/step - loss: 0.0034\n",
            "Epoch 2/50\n",
            "36/36 [==============================] - 1s 40ms/step - loss: 1.1164e-04\n",
            "Epoch 3/50\n",
            "36/36 [==============================] - 1s 39ms/step - loss: 7.4801e-05\n",
            "Epoch 4/50\n",
            "36/36 [==============================] - 1s 40ms/step - loss: 6.8325e-05\n",
            "Epoch 5/50\n",
            "36/36 [==============================] - 1s 39ms/step - loss: 6.7524e-05\n",
            "Epoch 6/50\n",
            "36/36 [==============================] - 1s 40ms/step - loss: 6.8727e-05\n",
            "Epoch 7/50\n",
            "36/36 [==============================] - 1s 40ms/step - loss: 6.8611e-05\n",
            "Epoch 8/50\n",
            "36/36 [==============================] - 1s 39ms/step - loss: 7.5263e-05\n",
            "Epoch 9/50\n",
            "36/36 [==============================] - 1s 40ms/step - loss: 8.3686e-05\n",
            "Epoch 10/50\n",
            "36/36 [==============================] - 1s 39ms/step - loss: 7.8440e-05\n",
            "Epoch 11/50\n",
            "36/36 [==============================] - 1s 39ms/step - loss: 6.1891e-05\n",
            "Epoch 12/50\n",
            "36/36 [==============================] - 1s 40ms/step - loss: 6.8580e-05\n",
            "Epoch 13/50\n",
            "36/36 [==============================] - 1s 39ms/step - loss: 6.0790e-05\n",
            "Epoch 14/50\n",
            "36/36 [==============================] - 1s 40ms/step - loss: 6.0870e-05\n",
            "Epoch 15/50\n",
            "36/36 [==============================] - 1s 40ms/step - loss: 6.0228e-05\n",
            "Epoch 16/50\n",
            "36/36 [==============================] - 1s 39ms/step - loss: 5.7905e-05\n",
            "Epoch 17/50\n",
            "36/36 [==============================] - 1s 40ms/step - loss: 5.8395e-05\n",
            "Epoch 18/50\n",
            "36/36 [==============================] - 1s 39ms/step - loss: 1.4061e-04\n",
            "Epoch 19/50\n",
            "36/36 [==============================] - 1s 40ms/step - loss: 5.8622e-05\n",
            "Epoch 20/50\n",
            "36/36 [==============================] - 1s 39ms/step - loss: 5.5726e-05\n",
            "Epoch 21/50\n",
            "36/36 [==============================] - 1s 40ms/step - loss: 5.3069e-05\n",
            "Epoch 22/50\n",
            "36/36 [==============================] - 1s 39ms/step - loss: 5.1827e-05\n",
            "Epoch 23/50\n",
            "36/36 [==============================] - 1s 40ms/step - loss: 5.4558e-05\n",
            "Epoch 24/50\n",
            "36/36 [==============================] - 1s 40ms/step - loss: 5.3673e-05\n",
            "Epoch 25/50\n",
            "36/36 [==============================] - 2s 55ms/step - loss: 5.5412e-05\n",
            "Epoch 26/50\n",
            "36/36 [==============================] - 2s 54ms/step - loss: 5.1333e-05\n",
            "Epoch 27/50\n",
            "36/36 [==============================] - 1s 40ms/step - loss: 5.0232e-05\n",
            "Epoch 28/50\n",
            "36/36 [==============================] - 1s 40ms/step - loss: 4.9345e-05\n",
            "Epoch 29/50\n",
            "36/36 [==============================] - 1s 40ms/step - loss: 6.3668e-05\n",
            "Epoch 30/50\n",
            "36/36 [==============================] - 1s 40ms/step - loss: 5.1615e-05\n",
            "Epoch 31/50\n",
            "36/36 [==============================] - 1s 40ms/step - loss: 4.4800e-05\n",
            "Epoch 32/50\n",
            "36/36 [==============================] - 1s 40ms/step - loss: 5.9525e-05\n",
            "Epoch 33/50\n",
            "36/36 [==============================] - 1s 39ms/step - loss: 4.2431e-05\n",
            "Epoch 34/50\n",
            "36/36 [==============================] - 1s 40ms/step - loss: 4.2655e-05\n",
            "Epoch 35/50\n",
            "36/36 [==============================] - 1s 39ms/step - loss: 4.4762e-05\n",
            "Epoch 36/50\n",
            "36/36 [==============================] - 1s 39ms/step - loss: 3.9758e-05\n",
            "Epoch 37/50\n",
            "36/36 [==============================] - 1s 40ms/step - loss: 4.1016e-05\n",
            "Epoch 38/50\n",
            "36/36 [==============================] - 1s 40ms/step - loss: 3.8004e-05\n",
            "Epoch 39/50\n",
            "36/36 [==============================] - 1s 40ms/step - loss: 3.8368e-05\n",
            "Epoch 40/50\n",
            "36/36 [==============================] - 1s 40ms/step - loss: 4.4664e-05\n",
            "Epoch 41/50\n",
            "36/36 [==============================] - 1s 41ms/step - loss: 3.6668e-05\n",
            "Epoch 42/50\n",
            "36/36 [==============================] - 1s 40ms/step - loss: 3.5367e-05\n",
            "Epoch 43/50\n",
            "36/36 [==============================] - 1s 40ms/step - loss: 3.5014e-05\n",
            "Epoch 44/50\n",
            "36/36 [==============================] - 1s 41ms/step - loss: 3.6823e-05\n",
            "Epoch 45/50\n",
            "36/36 [==============================] - 1s 41ms/step - loss: 4.0283e-05\n",
            "Epoch 46/50\n",
            "36/36 [==============================] - 1s 41ms/step - loss: 3.6328e-05\n",
            "Epoch 47/50\n",
            "36/36 [==============================] - 1s 41ms/step - loss: 3.3716e-05\n",
            "Epoch 48/50\n",
            "36/36 [==============================] - 1s 40ms/step - loss: 3.7303e-05\n",
            "Epoch 49/50\n",
            "36/36 [==============================] - 2s 41ms/step - loss: 4.2883e-05\n",
            "Epoch 50/50\n",
            "36/36 [==============================] - 1s 40ms/step - loss: 3.2939e-05\n"
          ]
        }
      ]
    },
    {
      "cell_type": "code",
      "source": [
        "predictions = model.predict(xtest)\n",
        "predictions = scaler.inverse_transform(predictions)\n",
        "# Get the root mean squared error (RMSE)\n",
        "rmse = np.sqrt(np.mean(((predictions - ytest) ** 2)))\n",
        "rmse\n"
      ],
      "metadata": {
        "colab": {
          "base_uri": "https://localhost:8080/"
        },
        "id": "LVu3tJlxnSSb",
        "outputId": "79505a96-bd86-42a7-879f-8f7ddb94ae07"
      },
      "execution_count": 21,
      "outputs": [
        {
          "output_type": "execute_result",
          "data": {
            "text/plain": [
              "82.13608081840063"
            ]
          },
          "metadata": {},
          "execution_count": 21
        }
      ]
    },
    {
      "cell_type": "code",
      "source": [
        "data_plot = df.copy()"
      ],
      "metadata": {
        "id": "klb5VbnBo7w7"
      },
      "execution_count": 28,
      "outputs": []
    },
    {
      "cell_type": "code",
      "source": [
        "# Plot the data\n",
        "\n",
        "train = data_plot[:train_size]\n",
        "valid = data_plot[train_size:]\n",
        "#valid['Predictions'] = predictions\n",
        "data_predict = data_plot[-868:]\n",
        "data_predict['Prediction'] = predictions\n",
        "data_predict.head()"
      ],
      "metadata": {
        "colab": {
          "base_uri": "https://localhost:8080/",
          "height": 237
        },
        "id": "yWyPNq-NnvHT",
        "outputId": "5f7ecaad-f026-48db-b0eb-bd2641857487"
      },
      "execution_count": 51,
      "outputs": [
        {
          "output_type": "execute_result",
          "data": {
            "text/plain": [
              "                 Open       High        Low      Close  Adj_Close     Volume  \\\n",
              "Date                                                                           \n",
              "2015-04-25  69.610001  69.709999  65.264999  65.485001  65.485001  2834000.0   \n",
              "2015-04-26  69.610001  69.709999  65.264999  65.485001  65.485001  2834000.0   \n",
              "2015-04-27  69.610001  69.709999  65.264999  65.485001  65.485001  2834000.0   \n",
              "2015-04-28  65.455002  65.730003  64.125000  64.949997  64.949997  3504400.0   \n",
              "2015-04-29  64.875000  65.489998  64.500000  64.980003  64.980003  2316600.0   \n",
              "\n",
              "            Prediction  \n",
              "Date                    \n",
              "2015-04-25   36.241444  \n",
              "2015-04-26   36.622551  \n",
              "2015-04-27   37.041916  \n",
              "2015-04-28   37.412933  \n",
              "2015-04-29   37.537838  "
            ],
            "text/html": [
              "\n",
              "  <div id=\"df-97980190-ada0-4836-a7d6-a8ea50389d71\">\n",
              "    <div class=\"colab-df-container\">\n",
              "      <div>\n",
              "<style scoped>\n",
              "    .dataframe tbody tr th:only-of-type {\n",
              "        vertical-align: middle;\n",
              "    }\n",
              "\n",
              "    .dataframe tbody tr th {\n",
              "        vertical-align: top;\n",
              "    }\n",
              "\n",
              "    .dataframe thead th {\n",
              "        text-align: right;\n",
              "    }\n",
              "</style>\n",
              "<table border=\"1\" class=\"dataframe\">\n",
              "  <thead>\n",
              "    <tr style=\"text-align: right;\">\n",
              "      <th></th>\n",
              "      <th>Open</th>\n",
              "      <th>High</th>\n",
              "      <th>Low</th>\n",
              "      <th>Close</th>\n",
              "      <th>Adj_Close</th>\n",
              "      <th>Volume</th>\n",
              "      <th>Prediction</th>\n",
              "    </tr>\n",
              "    <tr>\n",
              "      <th>Date</th>\n",
              "      <th></th>\n",
              "      <th></th>\n",
              "      <th></th>\n",
              "      <th></th>\n",
              "      <th></th>\n",
              "      <th></th>\n",
              "      <th></th>\n",
              "    </tr>\n",
              "  </thead>\n",
              "  <tbody>\n",
              "    <tr>\n",
              "      <th>2015-04-25</th>\n",
              "      <td>69.610001</td>\n",
              "      <td>69.709999</td>\n",
              "      <td>65.264999</td>\n",
              "      <td>65.485001</td>\n",
              "      <td>65.485001</td>\n",
              "      <td>2834000.0</td>\n",
              "      <td>36.241444</td>\n",
              "    </tr>\n",
              "    <tr>\n",
              "      <th>2015-04-26</th>\n",
              "      <td>69.610001</td>\n",
              "      <td>69.709999</td>\n",
              "      <td>65.264999</td>\n",
              "      <td>65.485001</td>\n",
              "      <td>65.485001</td>\n",
              "      <td>2834000.0</td>\n",
              "      <td>36.622551</td>\n",
              "    </tr>\n",
              "    <tr>\n",
              "      <th>2015-04-27</th>\n",
              "      <td>69.610001</td>\n",
              "      <td>69.709999</td>\n",
              "      <td>65.264999</td>\n",
              "      <td>65.485001</td>\n",
              "      <td>65.485001</td>\n",
              "      <td>2834000.0</td>\n",
              "      <td>37.041916</td>\n",
              "    </tr>\n",
              "    <tr>\n",
              "      <th>2015-04-28</th>\n",
              "      <td>65.455002</td>\n",
              "      <td>65.730003</td>\n",
              "      <td>64.125000</td>\n",
              "      <td>64.949997</td>\n",
              "      <td>64.949997</td>\n",
              "      <td>3504400.0</td>\n",
              "      <td>37.412933</td>\n",
              "    </tr>\n",
              "    <tr>\n",
              "      <th>2015-04-29</th>\n",
              "      <td>64.875000</td>\n",
              "      <td>65.489998</td>\n",
              "      <td>64.500000</td>\n",
              "      <td>64.980003</td>\n",
              "      <td>64.980003</td>\n",
              "      <td>2316600.0</td>\n",
              "      <td>37.537838</td>\n",
              "    </tr>\n",
              "  </tbody>\n",
              "</table>\n",
              "</div>\n",
              "      <button class=\"colab-df-convert\" onclick=\"convertToInteractive('df-97980190-ada0-4836-a7d6-a8ea50389d71')\"\n",
              "              title=\"Convert this dataframe to an interactive table.\"\n",
              "              style=\"display:none;\">\n",
              "        \n",
              "  <svg xmlns=\"http://www.w3.org/2000/svg\" height=\"24px\"viewBox=\"0 0 24 24\"\n",
              "       width=\"24px\">\n",
              "    <path d=\"M0 0h24v24H0V0z\" fill=\"none\"/>\n",
              "    <path d=\"M18.56 5.44l.94 2.06.94-2.06 2.06-.94-2.06-.94-.94-2.06-.94 2.06-2.06.94zm-11 1L8.5 8.5l.94-2.06 2.06-.94-2.06-.94L8.5 2.5l-.94 2.06-2.06.94zm10 10l.94 2.06.94-2.06 2.06-.94-2.06-.94-.94-2.06-.94 2.06-2.06.94z\"/><path d=\"M17.41 7.96l-1.37-1.37c-.4-.4-.92-.59-1.43-.59-.52 0-1.04.2-1.43.59L10.3 9.45l-7.72 7.72c-.78.78-.78 2.05 0 2.83L4 21.41c.39.39.9.59 1.41.59.51 0 1.02-.2 1.41-.59l7.78-7.78 2.81-2.81c.8-.78.8-2.07 0-2.86zM5.41 20L4 18.59l7.72-7.72 1.47 1.35L5.41 20z\"/>\n",
              "  </svg>\n",
              "      </button>\n",
              "      \n",
              "  <style>\n",
              "    .colab-df-container {\n",
              "      display:flex;\n",
              "      flex-wrap:wrap;\n",
              "      gap: 12px;\n",
              "    }\n",
              "\n",
              "    .colab-df-convert {\n",
              "      background-color: #E8F0FE;\n",
              "      border: none;\n",
              "      border-radius: 50%;\n",
              "      cursor: pointer;\n",
              "      display: none;\n",
              "      fill: #1967D2;\n",
              "      height: 32px;\n",
              "      padding: 0 0 0 0;\n",
              "      width: 32px;\n",
              "    }\n",
              "\n",
              "    .colab-df-convert:hover {\n",
              "      background-color: #E2EBFA;\n",
              "      box-shadow: 0px 1px 2px rgba(60, 64, 67, 0.3), 0px 1px 3px 1px rgba(60, 64, 67, 0.15);\n",
              "      fill: #174EA6;\n",
              "    }\n",
              "\n",
              "    [theme=dark] .colab-df-convert {\n",
              "      background-color: #3B4455;\n",
              "      fill: #D2E3FC;\n",
              "    }\n",
              "\n",
              "    [theme=dark] .colab-df-convert:hover {\n",
              "      background-color: #434B5C;\n",
              "      box-shadow: 0px 1px 3px 1px rgba(0, 0, 0, 0.15);\n",
              "      filter: drop-shadow(0px 1px 2px rgba(0, 0, 0, 0.3));\n",
              "      fill: #FFFFFF;\n",
              "    }\n",
              "  </style>\n",
              "\n",
              "      <script>\n",
              "        const buttonEl =\n",
              "          document.querySelector('#df-97980190-ada0-4836-a7d6-a8ea50389d71 button.colab-df-convert');\n",
              "        buttonEl.style.display =\n",
              "          google.colab.kernel.accessAllowed ? 'block' : 'none';\n",
              "\n",
              "        async function convertToInteractive(key) {\n",
              "          const element = document.querySelector('#df-97980190-ada0-4836-a7d6-a8ea50389d71');\n",
              "          const dataTable =\n",
              "            await google.colab.kernel.invokeFunction('convertToInteractive',\n",
              "                                                     [key], {});\n",
              "          if (!dataTable) return;\n",
              "\n",
              "          const docLinkHtml = 'Like what you see? Visit the ' +\n",
              "            '<a target=\"_blank\" href=https://colab.research.google.com/notebooks/data_table.ipynb>data table notebook</a>'\n",
              "            + ' to learn more about interactive tables.';\n",
              "          element.innerHTML = '';\n",
              "          dataTable['output_type'] = 'display_data';\n",
              "          await google.colab.output.renderOutput(dataTable, element);\n",
              "          const docLink = document.createElement('div');\n",
              "          docLink.innerHTML = docLinkHtml;\n",
              "          element.appendChild(docLink);\n",
              "        }\n",
              "      </script>\n",
              "    </div>\n",
              "  </div>\n",
              "  "
            ]
          },
          "metadata": {},
          "execution_count": 51
        }
      ]
    },
    {
      "cell_type": "code",
      "source": [
        "# Visualize the data\n",
        "plt.figure(figsize=(16,6))\n",
        "plt.title('Model')\n",
        "plt.xlabel('Date', fontsize=18)\n",
        "plt.ylabel('Close Price ', fontsize=18)\n",
        "plt.plot(train['Close'])\n",
        "plt.plot(valid['Close'])\n",
        "plt.plot(data_predict['Prediction'])\n",
        "plt.legend(['Train', 'Val', 'Predictions'], loc='lower right')\n",
        "plt.show()"
      ],
      "metadata": {
        "colab": {
          "base_uri": "https://localhost:8080/",
          "height": 412
        },
        "id": "J1umzxZenzp8",
        "outputId": "51bfb3ea-3d0c-4029-ca0e-6a31412a8b40"
      },
      "execution_count": 52,
      "outputs": [
        {
          "output_type": "display_data",
          "data": {
            "text/plain": [
              "<Figure size 1152x432 with 1 Axes>"
            ],
            "image/png": "[encoded data removed]"
          },
          "metadata": {
            "needs_background": "light"
          }
        }
      ]
    },
    {
      "cell_type": "code",
      "source": [
        "plt.plot(predictions)\n",
        "plt.show()"
      ],
      "metadata": {
        "colab": {
          "base_uri": "https://localhost:8080/",
          "height": 322
        },
        "id": "QCynPTPys2OL",
        "outputId": "bfa223cf-9ce0-4247-8b69-f302d46ed83a"
      },
      "execution_count": 49,
      "outputs": [
        {
          "output_type": "display_data",
          "data": {
            "text/plain": [
              "<Figure size 720x360 with 1 Axes>"
            ],
            "image/png": "[encoded data removed]"
          },
          "metadata": {
            "needs_background": "light"
          }
        }
      ]
    },
    {
      "cell_type": "code",
      "source": [],
      "metadata": {
        "id": "44EpKwL6tAu8"
      },
      "execution_count": null,
      "outputs": []
    }
  ]
}