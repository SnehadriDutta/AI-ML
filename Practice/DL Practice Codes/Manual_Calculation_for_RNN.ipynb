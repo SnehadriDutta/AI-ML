{
  "nbformat": 4,
  "nbformat_minor": 0,
  "metadata": {
    "colab": {
      "name": "Manual Calculation for RNN.ipynb",
      "provenance": [],
      "collapsed_sections": []
    },
    "kernelspec": {
      "name": "python3",
      "display_name": "Python 3"
    },
    "language_info": {
      "name": "python"
    }
  },
  "cells": [
    {
      "cell_type": "code",
      "source": [
        "!pip install -q tensorflow"
      ],
      "metadata": {
        "colab": {
          "base_uri": "https://localhost:8080/"
        },
        "id": "96-pj3al7DoS",
        "outputId": "1d50d6b0-551d-4fd3-c469-874ec82294dc"
      },
      "execution_count": 2,
      "outputs": [
        {
          "output_type": "stream",
          "name": "stdout",
          "text": [
            "\u001b[?25l\r\u001b[K     |▊                               | 10 kB 17.3 MB/s eta 0:00:01\r\u001b[K     |█▍                              | 20 kB 22.0 MB/s eta 0:00:01\r\u001b[K     |██▏                             | 30 kB 14.8 MB/s eta 0:00:01\r\u001b[K     |██▉                             | 40 kB 11.3 MB/s eta 0:00:01\r\u001b[K     |███▌                            | 51 kB 5.9 MB/s eta 0:00:01\r\u001b[K     |████▎                           | 61 kB 7.0 MB/s eta 0:00:01\r\u001b[K     |█████                           | 71 kB 7.7 MB/s eta 0:00:01\r\u001b[K     |█████▊                          | 81 kB 6.9 MB/s eta 0:00:01\r\u001b[K     |██████▍                         | 92 kB 7.6 MB/s eta 0:00:01\r\u001b[K     |███████                         | 102 kB 8.3 MB/s eta 0:00:01\r\u001b[K     |███████▉                        | 112 kB 8.3 MB/s eta 0:00:01\r\u001b[K     |████████▌                       | 122 kB 8.3 MB/s eta 0:00:01\r\u001b[K     |█████████▏                      | 133 kB 8.3 MB/s eta 0:00:01\r\u001b[K     |██████████                      | 143 kB 8.3 MB/s eta 0:00:01\r\u001b[K     |██████████▋                     | 153 kB 8.3 MB/s eta 0:00:01\r\u001b[K     |███████████▍                    | 163 kB 8.3 MB/s eta 0:00:01\r\u001b[K     |████████████                    | 174 kB 8.3 MB/s eta 0:00:01\r\u001b[K     |████████████▊                   | 184 kB 8.3 MB/s eta 0:00:01\r\u001b[K     |█████████████▌                  | 194 kB 8.3 MB/s eta 0:00:01\r\u001b[K     |██████████████▏                 | 204 kB 8.3 MB/s eta 0:00:01\r\u001b[K     |██████████████▉                 | 215 kB 8.3 MB/s eta 0:00:01\r\u001b[K     |███████████████▋                | 225 kB 8.3 MB/s eta 0:00:01\r\u001b[K     |████████████████▎               | 235 kB 8.3 MB/s eta 0:00:01\r\u001b[K     |█████████████████               | 245 kB 8.3 MB/s eta 0:00:01\r\u001b[K     |█████████████████▊              | 256 kB 8.3 MB/s eta 0:00:01\r\u001b[K     |██████████████████▍             | 266 kB 8.3 MB/s eta 0:00:01\r\u001b[K     |███████████████████▏            | 276 kB 8.3 MB/s eta 0:00:01\r\u001b[K     |███████████████████▉            | 286 kB 8.3 MB/s eta 0:00:01\r\u001b[K     |████████████████████▌           | 296 kB 8.3 MB/s eta 0:00:01\r\u001b[K     |█████████████████████▎          | 307 kB 8.3 MB/s eta 0:00:01\r\u001b[K     |██████████████████████          | 317 kB 8.3 MB/s eta 0:00:01\r\u001b[K     |██████████████████████▊         | 327 kB 8.3 MB/s eta 0:00:01\r\u001b[K     |███████████████████████▍        | 337 kB 8.3 MB/s eta 0:00:01\r\u001b[K     |████████████████████████        | 348 kB 8.3 MB/s eta 0:00:01\r\u001b[K     |████████████████████████▉       | 358 kB 8.3 MB/s eta 0:00:01\r\u001b[K     |█████████████████████████▌      | 368 kB 8.3 MB/s eta 0:00:01\r\u001b[K     |██████████████████████████▏     | 378 kB 8.3 MB/s eta 0:00:01\r\u001b[K     |███████████████████████████     | 389 kB 8.3 MB/s eta 0:00:01\r\u001b[K     |███████████████████████████▋    | 399 kB 8.3 MB/s eta 0:00:01\r\u001b[K     |████████████████████████████▍   | 409 kB 8.3 MB/s eta 0:00:01\r\u001b[K     |█████████████████████████████   | 419 kB 8.3 MB/s eta 0:00:01\r\u001b[K     |█████████████████████████████▊  | 430 kB 8.3 MB/s eta 0:00:01\r\u001b[K     |██████████████████████████████▌ | 440 kB 8.3 MB/s eta 0:00:01\r\u001b[K     |███████████████████████████████▏| 450 kB 8.3 MB/s eta 0:00:01\r\u001b[K     |███████████████████████████████▉| 460 kB 8.3 MB/s eta 0:00:01\r\u001b[K     |████████████████████████████████| 462 kB 8.3 MB/s \n",
            "\u001b[?25h"
          ]
        }
      ]
    },
    {
      "cell_type": "code",
      "source": [
        "import tensorflow\n",
        "print(tensorflow.__version__)"
      ],
      "metadata": {
        "colab": {
          "base_uri": "https://localhost:8080/"
        },
        "id": "9Yu41St67Q7O",
        "outputId": "1321ef15-c964-4027-80d5-eb01ee4dc261"
      },
      "execution_count": 3,
      "outputs": [
        {
          "output_type": "stream",
          "name": "stdout",
          "text": [
            "2.8.0\n"
          ]
        }
      ]
    },
    {
      "cell_type": "code",
      "execution_count": 5,
      "metadata": {
        "id": "0WV-xdfG5Ze0"
      },
      "outputs": [],
      "source": [
        "from tensorflow.keras.layers import Input,SimpleRNN,Flatten,Dense\n",
        "from tensorflow.keras.optimizers import Adam, SGD\n",
        "from tensorflow.keras.models import Model\n",
        "import numpy as np\n",
        "import pandas as pd\n",
        "import matplotlib.pyplot as plt"
      ]
    },
    {
      "cell_type": "code",
      "source": [
        "N = 1 # number of samples\n",
        "T = 10 # number of time sequence\n",
        "D = 3 # number of features\n",
        "M = 5 # number of hidden layers\n",
        "K = 2 # number of output"
      ],
      "metadata": {
        "id": "vC-Ad5SW6rm6"
      },
      "execution_count": 6,
      "outputs": []
    },
    {
      "cell_type": "code",
      "source": [
        "X = np.random.randn(N,T,D)"
      ],
      "metadata": {
        "id": "CNHpA2qZ7yqg"
      },
      "execution_count": 7,
      "outputs": []
    },
    {
      "cell_type": "code",
      "source": [
        "X.shape"
      ],
      "metadata": {
        "colab": {
          "base_uri": "https://localhost:8080/"
        },
        "id": "8Ey-Z7aX8Ai9",
        "outputId": "440191bd-dcdc-4707-c2ad-d8fed2031b66"
      },
      "execution_count": 9,
      "outputs": [
        {
          "output_type": "execute_result",
          "data": {
            "text/plain": [
              "(1, 10, 3)"
            ]
          },
          "metadata": {},
          "execution_count": 9
        }
      ]
    },
    {
      "cell_type": "code",
      "source": [
        "i = Input(shape=(T,D))\n",
        "x = SimpleRNN(M)(i)\n",
        "x = Dense(K)(x)\n",
        "\n",
        "model = Model(i, x)"
      ],
      "metadata": {
        "id": "p6GE6dNK8BZ_"
      },
      "execution_count": 10,
      "outputs": []
    },
    {
      "cell_type": "code",
      "source": [
        "y_hat = model.predict(X)\n",
        "y_hat[0]"
      ],
      "metadata": {
        "colab": {
          "base_uri": "https://localhost:8080/"
        },
        "id": "WpmaWFkF83Pq",
        "outputId": "4d56251e-eff3-41c4-969c-4c124aee482a"
      },
      "execution_count": 12,
      "outputs": [
        {
          "output_type": "execute_result",
          "data": {
            "text/plain": [
              "array([-0.10450526,  0.8865529 ], dtype=float32)"
            ]
          },
          "metadata": {},
          "execution_count": 12
        }
      ]
    },
    {
      "cell_type": "code",
      "source": [
        "model.layers[1].get_weights()"
      ],
      "metadata": {
        "colab": {
          "base_uri": "https://localhost:8080/"
        },
        "id": "NrQHYj5f83im",
        "outputId": "22f73c07-7a56-437e-835a-1ed78c88fcb4"
      },
      "execution_count": 17,
      "outputs": [
        {
          "output_type": "execute_result",
          "data": {
            "text/plain": [
              "[array([[-0.17267859,  0.4604543 ,  0.85265666, -0.06709206, -0.67042005],\n",
              "        [ 0.31811637,  0.71139985, -0.3151338 ,  0.80920845, -0.02812952],\n",
              "        [-0.14834762,  0.20954853, -0.22784585, -0.3542797 , -0.05022603]],\n",
              "       dtype=float32),\n",
              " array([[-0.88420475,  0.2708631 , -0.06236813, -0.25947645,  0.27128842],\n",
              "        [ 0.06429033,  0.8606136 ,  0.1187996 ,  0.16858412, -0.4611689 ],\n",
              "        [ 0.00486899,  0.03321535,  0.913893  ,  0.17817049,  0.36321935],\n",
              "        [ 0.24504839,  0.34920767, -0.37767068,  0.38136998,  0.727961  ],\n",
              "        [ 0.3923982 ,  0.2508543 ,  0.06451099, -0.8526803 ,  0.22775076]],\n",
              "       dtype=float32),\n",
              " array([0., 0., 0., 0., 0.], dtype=float32)]"
            ]
          },
          "metadata": {},
          "execution_count": 17
        }
      ]
    },
    {
      "cell_type": "code",
      "source": [
        "Wx, Wh, bh = model.layers[1].get_weights()  # Wx: input to hidden layer; Wh: hidden to hidden layer; bh: bias"
      ],
      "metadata": {
        "id": "jTrIilHm83lR"
      },
      "execution_count": 18,
      "outputs": []
    },
    {
      "cell_type": "code",
      "source": [
        "Wo, bo = model.layers[2].get_weights()   #Wo: hidden to output layer weights; bo: bias "
      ],
      "metadata": {
        "id": "bCZz7s6H83oI"
      },
      "execution_count": 19,
      "outputs": []
    },
    {
      "cell_type": "code",
      "source": [
        "h_last = np.zeros(M)\n",
        "y_pred = []\n",
        "x = X[0]\n",
        "\n",
        "for t in range(T):\n",
        "  h = np.tanh(x[t].dot(Wx) + h_last.dot(Wh) + bh)\n",
        "  y = h.dot(Wo) + bo\n",
        "  y_pred.append(y)\n",
        "\n",
        "  h_last = h  # capture the last hidden layer information\n"
      ],
      "metadata": {
        "id": "KMUpQfJN83qY"
      },
      "execution_count": 20,
      "outputs": []
    },
    {
      "cell_type": "code",
      "source": [
        "y_pred[-1]"
      ],
      "metadata": {
        "colab": {
          "base_uri": "https://localhost:8080/"
        },
        "id": "K7dryVzG83s7",
        "outputId": "79a93f22-2ae0-4e2f-8d50-15a92b5ce656"
      },
      "execution_count": 21,
      "outputs": [
        {
          "output_type": "execute_result",
          "data": {
            "text/plain": [
              "array([-0.10450523,  0.88655296])"
            ]
          },
          "metadata": {},
          "execution_count": 21
        }
      ]
    },
    {
      "cell_type": "code",
      "source": [
        ""
      ],
      "metadata": {
        "id": "CHtQ6Z2n83vO"
      },
      "execution_count": null,
      "outputs": []
    },
    {
      "cell_type": "code",
      "source": [
        ""
      ],
      "metadata": {
        "id": "CmXl1IHj83xq"
      },
      "execution_count": null,
      "outputs": []
    },
    {
      "cell_type": "code",
      "source": [
        ""
      ],
      "metadata": {
        "id": "si5NTmJS83z4"
      },
      "execution_count": null,
      "outputs": []
    }
  ]
}