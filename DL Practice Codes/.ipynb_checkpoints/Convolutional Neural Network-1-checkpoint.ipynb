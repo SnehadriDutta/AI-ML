{
 "cells": [
  {
   "cell_type": "code",
   "execution_count": 1,
   "id": "124d6010",
   "metadata": {},
   "outputs": [],
   "source": [
    "import tensorflow as tf\n",
    "from keras.preprocessing.image import ImageDataGenerator"
   ]
  },
  {
   "cell_type": "markdown",
   "id": "af0e0342",
   "metadata": {},
   "source": [
    "## Data Preprocessing"
   ]
  },
  {
   "cell_type": "code",
   "execution_count": 2,
   "id": "52ca8b8e",
   "metadata": {},
   "outputs": [
    {
     "name": "stdout",
     "output_type": "stream",
     "text": [
      "Found 8000 images belonging to 2 classes.\n"
     ]
    }
   ],
   "source": [
    "training_dataset = ImageDataGenerator(rescale=1./255, shear_range=0.25, zoom_range= 0.25, horizontal_flip=True)\n",
    "training_set = training_dataset.flow_from_directory('C:\\\\Users\\\\hp\\\\Desktop\\\\Misc\\\\Programming\\\\Machine & Deep Learning\\\\Deep Learning\\\\Sample Data\\\\Section+40+-+Convolutional+Neural+Networks+(CNN)\\\\Section 40 - Convolutional Neural Networks (CNN)\\\\dataset\\\\training_set',\n",
    "                                                   target_size = (64,64), batch_size = 32, class_mode = 'binary')"
   ]
  },
  {
   "cell_type": "code",
   "execution_count": 3,
   "id": "fa469af8",
   "metadata": {},
   "outputs": [
    {
     "name": "stdout",
     "output_type": "stream",
     "text": [
      "Found 2000 images belonging to 2 classes.\n"
     ]
    }
   ],
   "source": [
    "test_dataset = ImageDataGenerator(rescale = 1./255)\n",
    "test_set = test_dataset.flow_from_directory('C:\\\\Users\\\\hp\\\\Desktop\\\\Misc\\\\Programming\\\\Machine & Deep Learning\\\\Deep Learning\\\\Sample Data\\\\Section+40+-+Convolutional+Neural+Networks+(CNN)\\\\Section 40 - Convolutional Neural Networks (CNN)\\\\dataset\\\\test_set',\n",
    "                                                   target_size = (64,64), batch_size = 32, class_mode = 'binary')"
   ]
  },
  {
   "cell_type": "markdown",
   "id": "cafa99ea",
   "metadata": {},
   "source": [
    "## Building CNN"
   ]
  },
  {
   "cell_type": "markdown",
   "id": "5698ef36",
   "metadata": {},
   "source": [
    "### 1. Convolution"
   ]
  },
  {
   "cell_type": "code",
   "execution_count": 4,
   "id": "702ef0aa",
   "metadata": {},
   "outputs": [],
   "source": [
    "cnn = tf.keras.models.Sequential()"
   ]
  },
  {
   "cell_type": "code",
   "execution_count": 5,
   "id": "c252535b",
   "metadata": {},
   "outputs": [],
   "source": [
    "cnn.add(tf.keras.layers.Conv2D(filters=32, kernel_size = 3, activation='relu', input_shape = [64,64,3]))"
   ]
  },
  {
   "cell_type": "markdown",
   "id": "2c334e75",
   "metadata": {},
   "source": [
    "### Pooling"
   ]
  },
  {
   "cell_type": "code",
   "execution_count": 6,
   "id": "2220b838",
   "metadata": {},
   "outputs": [],
   "source": [
    "cnn.add(tf.keras.layers.MaxPool2D(pool_size=2, strides = 2))"
   ]
  },
  {
   "cell_type": "markdown",
   "id": "5552bf67",
   "metadata": {},
   "source": [
    "#### Adding 2nd layer"
   ]
  },
  {
   "cell_type": "code",
   "execution_count": 7,
   "id": "7991ef95",
   "metadata": {},
   "outputs": [],
   "source": [
    "cnn.add(tf.keras.layers.Conv2D(filters=32, kernel_size = 3, activation='relu')) # convolution \n",
    "cnn.add(tf.keras.layers.MaxPool2D(pool_size=2, strides = 2))     # Pooling  "
   ]
  },
  {
   "cell_type": "markdown",
   "id": "db6fa8b7",
   "metadata": {},
   "source": [
    "### Flattening"
   ]
  },
  {
   "cell_type": "code",
   "execution_count": 8,
   "id": "89cf136b",
   "metadata": {},
   "outputs": [],
   "source": [
    "cnn.add(tf.keras.layers.Flatten())"
   ]
  },
  {
   "cell_type": "markdown",
   "id": "1707a18e",
   "metadata": {},
   "source": [
    "### Full Connection"
   ]
  },
  {
   "cell_type": "code",
   "execution_count": 9,
   "id": "9f8e6d2a",
   "metadata": {},
   "outputs": [],
   "source": [
    "cnn.add(tf.keras.layers.Dense(units=128, activation = 'relu'))"
   ]
  },
  {
   "cell_type": "markdown",
   "id": "7f29bed8",
   "metadata": {},
   "source": [
    "### Output Layer"
   ]
  },
  {
   "cell_type": "code",
   "execution_count": 10,
   "id": "6214ec63",
   "metadata": {},
   "outputs": [],
   "source": [
    "cnn.add(tf.keras.layers.Dense(units=1, activation='sigmoid'))"
   ]
  },
  {
   "cell_type": "markdown",
   "id": "cbde0b5f",
   "metadata": {},
   "source": [
    "## Training CNN Model"
   ]
  },
  {
   "cell_type": "code",
   "execution_count": 11,
   "id": "0732db53",
   "metadata": {},
   "outputs": [],
   "source": [
    "cnn.compile(optimizer = 'adam', loss = 'binary_crossentropy', metrics=['accuracy'])"
   ]
  },
  {
   "cell_type": "code",
   "execution_count": 13,
   "id": "e03b60c9",
   "metadata": {},
   "outputs": [
    {
     "name": "stdout",
     "output_type": "stream",
     "text": [
      "Epoch 1/25\n",
      "250/250 [==============================] - 289s 1s/step - loss: 0.6782 - accuracy: 0.5663 - val_loss: 0.6286 - val_accuracy: 0.6395\n",
      "Epoch 2/25\n",
      "250/250 [==============================] - 48s 192ms/step - loss: 0.6103 - accuracy: 0.6644 - val_loss: 0.5741 - val_accuracy: 0.7075\n",
      "Epoch 3/25\n",
      "250/250 [==============================] - 53s 213ms/step - loss: 0.5579 - accuracy: 0.7168 - val_loss: 0.5332 - val_accuracy: 0.7530\n",
      "Epoch 4/25\n",
      "250/250 [==============================] - 52s 208ms/step - loss: 0.5249 - accuracy: 0.7377 - val_loss: 0.5407 - val_accuracy: 0.7295\n",
      "Epoch 5/25\n",
      "250/250 [==============================] - 52s 209ms/step - loss: 0.4995 - accuracy: 0.7596 - val_loss: 0.4959 - val_accuracy: 0.7720\n",
      "Epoch 6/25\n",
      "250/250 [==============================] - 54s 214ms/step - loss: 0.4834 - accuracy: 0.7674 - val_loss: 0.5047 - val_accuracy: 0.7580\n",
      "Epoch 7/25\n",
      "250/250 [==============================] - 51s 204ms/step - loss: 0.4663 - accuracy: 0.7740 - val_loss: 0.4710 - val_accuracy: 0.7905\n",
      "Epoch 8/25\n",
      "250/250 [==============================] - 49s 194ms/step - loss: 0.4582 - accuracy: 0.7809 - val_loss: 0.5183 - val_accuracy: 0.7530\n",
      "Epoch 9/25\n",
      "250/250 [==============================] - 53s 212ms/step - loss: 0.4430 - accuracy: 0.7944 - val_loss: 0.5035 - val_accuracy: 0.7645\n",
      "Epoch 10/25\n",
      "250/250 [==============================] - 56s 225ms/step - loss: 0.4359 - accuracy: 0.7965 - val_loss: 0.4646 - val_accuracy: 0.7875\n",
      "Epoch 11/25\n",
      "250/250 [==============================] - 65s 260ms/step - loss: 0.4187 - accuracy: 0.8064 - val_loss: 0.4606 - val_accuracy: 0.8050\n",
      "Epoch 12/25\n",
      "250/250 [==============================] - 62s 247ms/step - loss: 0.4131 - accuracy: 0.8094 - val_loss: 0.4940 - val_accuracy: 0.7935\n",
      "Epoch 13/25\n",
      "250/250 [==============================] - 61s 245ms/step - loss: 0.4024 - accuracy: 0.8188 - val_loss: 0.4756 - val_accuracy: 0.7985\n",
      "Epoch 14/25\n",
      "250/250 [==============================] - 70s 282ms/step - loss: 0.4039 - accuracy: 0.8126 - val_loss: 0.4641 - val_accuracy: 0.7890\n",
      "Epoch 15/25\n",
      "250/250 [==============================] - 48s 193ms/step - loss: 0.3907 - accuracy: 0.8204 - val_loss: 0.4985 - val_accuracy: 0.7815\n",
      "Epoch 16/25\n",
      "250/250 [==============================] - 48s 192ms/step - loss: 0.3811 - accuracy: 0.8275 - val_loss: 0.4487 - val_accuracy: 0.8095\n",
      "Epoch 17/25\n",
      "250/250 [==============================] - 48s 191ms/step - loss: 0.3662 - accuracy: 0.8329 - val_loss: 0.4932 - val_accuracy: 0.7925\n",
      "Epoch 18/25\n",
      "250/250 [==============================] - 48s 194ms/step - loss: 0.3625 - accuracy: 0.8349 - val_loss: 0.4529 - val_accuracy: 0.7985\n",
      "Epoch 19/25\n",
      "250/250 [==============================] - 48s 193ms/step - loss: 0.3573 - accuracy: 0.8425 - val_loss: 0.4616 - val_accuracy: 0.8055\n",
      "Epoch 20/25\n",
      "250/250 [==============================] - 48s 193ms/step - loss: 0.3555 - accuracy: 0.8382 - val_loss: 0.4664 - val_accuracy: 0.8045\n",
      "Epoch 21/25\n",
      "250/250 [==============================] - 49s 195ms/step - loss: 0.3397 - accuracy: 0.8500 - val_loss: 0.5143 - val_accuracy: 0.7895\n",
      "Epoch 22/25\n",
      "250/250 [==============================] - 49s 197ms/step - loss: 0.3333 - accuracy: 0.8501 - val_loss: 0.4586 - val_accuracy: 0.8115\n",
      "Epoch 23/25\n",
      "250/250 [==============================] - 49s 197ms/step - loss: 0.3191 - accuracy: 0.8626 - val_loss: 0.4838 - val_accuracy: 0.8075\n",
      "Epoch 24/25\n",
      "250/250 [==============================] - 48s 193ms/step - loss: 0.3068 - accuracy: 0.8643 - val_loss: 0.4967 - val_accuracy: 0.8000\n",
      "Epoch 25/25\n",
      "250/250 [==============================] - 49s 194ms/step - loss: 0.3129 - accuracy: 0.8615 - val_loss: 0.5108 - val_accuracy: 0.7965\n"
     ]
    },
    {
     "data": {
      "text/plain": [
       "<keras.callbacks.History at 0x20e2f38ffa0>"
      ]
     },
     "execution_count": 13,
     "metadata": {},
     "output_type": "execute_result"
    }
   ],
   "source": [
    "cnn.fit(x = training_set, validation_data = test_set, epochs = 25)"
   ]
  },
  {
   "cell_type": "markdown",
   "id": "7a3b95cf",
   "metadata": {},
   "source": [
    "## Making Prediction"
   ]
  },
  {
   "cell_type": "code",
   "execution_count": 14,
   "id": "7e8dfd53",
   "metadata": {},
   "outputs": [],
   "source": [
    "import numpy as np\n",
    "from keras.preprocessing import image"
   ]
  },
  {
   "cell_type": "code",
   "execution_count": 23,
   "id": "bf76ce6d",
   "metadata": {},
   "outputs": [],
   "source": [
    "test_image = image.load_img('C:\\\\Users\\\\hp\\\\Desktop\\\\Misc\\\\Programming\\\\Machine & Deep Learning\\\\Deep Learning\\\\Sample Data\\\\Section+40+-+Convolutional+Neural+Networks+(CNN)\\\\Section 40 - Convolutional Neural Networks (CNN)\\\\dataset\\\\single_prediction\\\\cat_or_dog_2.jpg',\n",
    "                                target_size = (64,64))\n",
    "test_image = image.img_to_array(test_image)\n",
    "test_image = np.expand_dims(test_image, axis = 0)\n",
    "result = cnn.predict(test_image)\n",
    "training_set.class_indices\n",
    "if result[0][0] == 1:\n",
    "    prediction = 'dog'\n",
    "else:\n",
    "    prediction = 'cat'"
   ]
  },
  {
   "cell_type": "code",
   "execution_count": 24,
   "id": "5580e96f",
   "metadata": {},
   "outputs": [
    {
     "data": {
      "text/plain": [
       "'dog'"
      ]
     },
     "execution_count": 24,
     "metadata": {},
     "output_type": "execute_result"
    }
   ],
   "source": [
    "prediction"
   ]
  },
  {
   "cell_type": "code",
   "execution_count": null,
   "id": "a9d0d4e7",
   "metadata": {},
   "outputs": [],
   "source": []
  }
 ],
 "metadata": {
  "kernelspec": {
   "display_name": "Python 3",
   "language": "python",
   "name": "python3"
  },
  "language_info": {
   "codemirror_mode": {
    "name": "ipython",
    "version": 3
   },
   "file_extension": ".py",
   "mimetype": "text/x-python",
   "name": "python",
   "nbconvert_exporter": "python",
   "pygments_lexer": "ipython3",
   "version": "3.8.8"
  }
 },
 "nbformat": 4,
 "nbformat_minor": 5
}
