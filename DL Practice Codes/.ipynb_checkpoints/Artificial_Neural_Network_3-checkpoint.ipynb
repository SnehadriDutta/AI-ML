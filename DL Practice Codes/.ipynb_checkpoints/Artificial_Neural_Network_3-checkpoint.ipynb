{
 "cells": [
  {
   "cell_type": "code",
   "execution_count": 1,
   "metadata": {
    "id": "A0F8CyxHR2oh"
   },
   "outputs": [],
   "source": [
    "import pandas as pd\n",
    "import numpy as np\n",
    "import matplotlib.pyplot as plt\n",
    "import seaborn as sns\n",
    "from sklearn.preprocessing import StandardScaler\n",
    "from tensorflow.keras.models import Sequential\n",
    "from tensorflow.keras.layers import Dense, Dropout"
   ]
  },
  {
   "cell_type": "code",
   "execution_count": 2,
   "metadata": {
    "colab": {
     "base_uri": "https://localhost:8080/"
    },
    "id": "koPixaJsSx1h",
    "outputId": "a27619c3-b7e8-48d5-a448-73004f9d2da4"
   },
   "outputs": [
    {
     "data": {
      "text/plain": [
       "(299, 13)"
      ]
     },
     "execution_count": 2,
     "metadata": {},
     "output_type": "execute_result"
    }
   ],
   "source": [
    "data = pd.read_csv(\"C:\\\\Users\\\\hp\\\\Desktop\\\\Misc\\\\Programming\\\\Machine & Deep Learning\\\\Deep Learning\\\\Sample Data\\\\Heart Failure Data.csv\")\n",
    "data.shape"
   ]
  },
  {
   "cell_type": "code",
   "execution_count": 3,
   "metadata": {
    "colab": {
     "base_uri": "https://localhost:8080/",
     "height": 203
    },
    "id": "je0NwBRLS3PD",
    "outputId": "68c0974c-df8b-4a22-c9c3-2a222ffeed5f"
   },
   "outputs": [
    {
     "data": {
      "text/html": [
       "<div>\n",
       "<style scoped>\n",
       "    .dataframe tbody tr th:only-of-type {\n",
       "        vertical-align: middle;\n",
       "    }\n",
       "\n",
       "    .dataframe tbody tr th {\n",
       "        vertical-align: top;\n",
       "    }\n",
       "\n",
       "    .dataframe thead th {\n",
       "        text-align: right;\n",
       "    }\n",
       "</style>\n",
       "<table border=\"1\" class=\"dataframe\">\n",
       "  <thead>\n",
       "    <tr style=\"text-align: right;\">\n",
       "      <th></th>\n",
       "      <th>age</th>\n",
       "      <th>anaemia</th>\n",
       "      <th>creatinine_phosphokinase</th>\n",
       "      <th>diabetes</th>\n",
       "      <th>ejection_fraction</th>\n",
       "      <th>high_blood_pressure</th>\n",
       "      <th>platelets</th>\n",
       "      <th>serum_creatinine</th>\n",
       "      <th>serum_sodium</th>\n",
       "      <th>sex</th>\n",
       "      <th>smoking</th>\n",
       "      <th>time</th>\n",
       "      <th>DEATH_EVENT</th>\n",
       "    </tr>\n",
       "  </thead>\n",
       "  <tbody>\n",
       "    <tr>\n",
       "      <th>0</th>\n",
       "      <td>75.0</td>\n",
       "      <td>0</td>\n",
       "      <td>582</td>\n",
       "      <td>0</td>\n",
       "      <td>20</td>\n",
       "      <td>1</td>\n",
       "      <td>265000.00</td>\n",
       "      <td>1.9</td>\n",
       "      <td>130</td>\n",
       "      <td>1</td>\n",
       "      <td>0</td>\n",
       "      <td>4</td>\n",
       "      <td>1</td>\n",
       "    </tr>\n",
       "    <tr>\n",
       "      <th>1</th>\n",
       "      <td>55.0</td>\n",
       "      <td>0</td>\n",
       "      <td>7861</td>\n",
       "      <td>0</td>\n",
       "      <td>38</td>\n",
       "      <td>0</td>\n",
       "      <td>263358.03</td>\n",
       "      <td>1.1</td>\n",
       "      <td>136</td>\n",
       "      <td>1</td>\n",
       "      <td>0</td>\n",
       "      <td>6</td>\n",
       "      <td>1</td>\n",
       "    </tr>\n",
       "    <tr>\n",
       "      <th>2</th>\n",
       "      <td>65.0</td>\n",
       "      <td>0</td>\n",
       "      <td>146</td>\n",
       "      <td>0</td>\n",
       "      <td>20</td>\n",
       "      <td>0</td>\n",
       "      <td>162000.00</td>\n",
       "      <td>1.3</td>\n",
       "      <td>129</td>\n",
       "      <td>1</td>\n",
       "      <td>1</td>\n",
       "      <td>7</td>\n",
       "      <td>1</td>\n",
       "    </tr>\n",
       "    <tr>\n",
       "      <th>3</th>\n",
       "      <td>50.0</td>\n",
       "      <td>1</td>\n",
       "      <td>111</td>\n",
       "      <td>0</td>\n",
       "      <td>20</td>\n",
       "      <td>0</td>\n",
       "      <td>210000.00</td>\n",
       "      <td>1.9</td>\n",
       "      <td>137</td>\n",
       "      <td>1</td>\n",
       "      <td>0</td>\n",
       "      <td>7</td>\n",
       "      <td>1</td>\n",
       "    </tr>\n",
       "    <tr>\n",
       "      <th>4</th>\n",
       "      <td>65.0</td>\n",
       "      <td>1</td>\n",
       "      <td>160</td>\n",
       "      <td>1</td>\n",
       "      <td>20</td>\n",
       "      <td>0</td>\n",
       "      <td>327000.00</td>\n",
       "      <td>2.7</td>\n",
       "      <td>116</td>\n",
       "      <td>0</td>\n",
       "      <td>0</td>\n",
       "      <td>8</td>\n",
       "      <td>1</td>\n",
       "    </tr>\n",
       "  </tbody>\n",
       "</table>\n",
       "</div>"
      ],
      "text/plain": [
       "    age  anaemia  creatinine_phosphokinase  diabetes  ejection_fraction  \\\n",
       "0  75.0        0                       582         0                 20   \n",
       "1  55.0        0                      7861         0                 38   \n",
       "2  65.0        0                       146         0                 20   \n",
       "3  50.0        1                       111         0                 20   \n",
       "4  65.0        1                       160         1                 20   \n",
       "\n",
       "   high_blood_pressure  platelets  serum_creatinine  serum_sodium  sex  \\\n",
       "0                    1  265000.00               1.9           130    1   \n",
       "1                    0  263358.03               1.1           136    1   \n",
       "2                    0  162000.00               1.3           129    1   \n",
       "3                    0  210000.00               1.9           137    1   \n",
       "4                    0  327000.00               2.7           116    0   \n",
       "\n",
       "   smoking  time  DEATH_EVENT  \n",
       "0        0     4            1  \n",
       "1        0     6            1  \n",
       "2        1     7            1  \n",
       "3        0     7            1  \n",
       "4        0     8            1  "
      ]
     },
     "execution_count": 3,
     "metadata": {},
     "output_type": "execute_result"
    }
   ],
   "source": [
    "data.head()"
   ]
  },
  {
   "cell_type": "code",
   "execution_count": 4,
   "metadata": {
    "colab": {
     "base_uri": "https://localhost:8080/"
    },
    "id": "GYZ3NU0bS6sG",
    "outputId": "d96bda97-b514-40c6-8677-1c8744bc06d6"
   },
   "outputs": [
    {
     "data": {
      "text/plain": [
       "age                         0\n",
       "anaemia                     0\n",
       "creatinine_phosphokinase    0\n",
       "diabetes                    0\n",
       "ejection_fraction           0\n",
       "high_blood_pressure         0\n",
       "platelets                   0\n",
       "serum_creatinine            0\n",
       "serum_sodium                0\n",
       "sex                         0\n",
       "smoking                     0\n",
       "time                        0\n",
       "DEATH_EVENT                 0\n",
       "dtype: int64"
      ]
     },
     "execution_count": 4,
     "metadata": {},
     "output_type": "execute_result"
    }
   ],
   "source": [
    "data.isnull().sum()"
   ]
  },
  {
   "cell_type": "markdown",
   "metadata": {
    "id": "WoCcH_zpUnTS"
   },
   "source": [
    "### Data Analysis"
   ]
  },
  {
   "cell_type": "code",
   "execution_count": 5,
   "metadata": {
    "colab": {
     "base_uri": "https://localhost:8080/",
     "height": 297
    },
    "id": "4pbwx9RQUzLa",
    "outputId": "15e5e918-f4a4-459f-d5e2-d0321bc1dafe"
   },
   "outputs": [
    {
     "data": {
      "text/plain": [
       "<AxesSubplot:xlabel='DEATH_EVENT', ylabel='count'>"
      ]
     },
     "execution_count": 5,
     "metadata": {},
     "output_type": "execute_result"
    },
    {
     "data": {
      "image/png": "[encoded data removed]",
      "text/plain": [
       "<Figure size 432x288 with 1 Axes>"
      ]
     },
     "metadata": {
      "needs_background": "light"
     },
     "output_type": "display_data"
    }
   ],
   "source": [
    "sns.countplot(x = data.DEATH_EVENT)"
   ]
  },
  {
   "cell_type": "code",
   "execution_count": 6,
   "metadata": {
    "colab": {
     "base_uri": "https://localhost:8080/",
     "height": 296
    },
    "id": "OYrTt5nvU6lK",
    "outputId": "7c6ad506-ac60-4564-c752-d448c8bad39e"
   },
   "outputs": [
    {
     "data": {
      "text/plain": [
       "<AxesSubplot:xlabel='anaemia', ylabel='count'>"
      ]
     },
     "execution_count": 6,
     "metadata": {},
     "output_type": "execute_result"
    },
    {
     "data": {
      "image/png": "[encoded data removed]",
      "text/plain": [
       "<Figure size 432x288 with 1 Axes>"
      ]
     },
     "metadata": {
      "needs_background": "light"
     },
     "output_type": "display_data"
    }
   ],
   "source": [
    "sns.countplot(x = data.anaemia,hue = data.DEATH_EVENT)"
   ]
  },
  {
   "cell_type": "code",
   "execution_count": 7,
   "metadata": {
    "colab": {
     "base_uri": "https://localhost:8080/",
     "height": 296
    },
    "id": "yORpr6TLVRBA",
    "outputId": "5d25e6cc-b0bc-4bef-88c6-dc37626e5bea"
   },
   "outputs": [
    {
     "data": {
      "text/plain": [
       "<AxesSubplot:xlabel='diabetes', ylabel='count'>"
      ]
     },
     "execution_count": 7,
     "metadata": {},
     "output_type": "execute_result"
    },
    {
     "data": {
      "image/png": "[encoded data removed]",
      "text/plain": [
       "<Figure size 432x288 with 1 Axes>"
      ]
     },
     "metadata": {
      "needs_background": "light"
     },
     "output_type": "display_data"
    }
   ],
   "source": [
    "sns.countplot(x = data.diabetes, hue = data.DEATH_EVENT)"
   ]
  },
  {
   "cell_type": "code",
   "execution_count": 8,
   "metadata": {
    "colab": {
     "base_uri": "https://localhost:8080/",
     "height": 297
    },
    "id": "kZ2_SrDwVdOe",
    "outputId": "307466e5-360a-44d9-c5f3-314477909441"
   },
   "outputs": [
    {
     "data": {
      "text/plain": [
       "<AxesSubplot:xlabel='high_blood_pressure', ylabel='count'>"
      ]
     },
     "execution_count": 8,
     "metadata": {},
     "output_type": "execute_result"
    },
    {
     "data": {
      "image/png": "[encoded data removed]",
      "text/plain": [
       "<Figure size 432x288 with 1 Axes>"
      ]
     },
     "metadata": {
      "needs_background": "light"
     },
     "output_type": "display_data"
    }
   ],
   "source": [
    "sns.countplot(x = data.high_blood_pressure, hue = data.DEATH_EVENT)"
   ]
  },
  {
   "cell_type": "code",
   "execution_count": 9,
   "metadata": {
    "colab": {
     "base_uri": "https://localhost:8080/",
     "height": 698
    },
    "id": "M6Dkv2paVzvv",
    "outputId": "18c1b5f1-b01b-488b-9b13-df6ce06a40cd"
   },
   "outputs": [
    {
     "data": {
      "text/plain": [
       "(array([ 0,  1,  2,  3,  4,  5,  6,  7,  8,  9, 10, 11, 12, 13, 14, 15, 16,\n",
       "        17, 18, 19, 20, 21, 22, 23, 24, 25, 26, 27, 28, 29, 30, 31, 32, 33,\n",
       "        34, 35, 36, 37, 38, 39, 40, 41, 42, 43, 44, 45, 46]),\n",
       " [Text(0, 0, '40.0'),\n",
       "  Text(1, 0, '41.0'),\n",
       "  Text(2, 0, '42.0'),\n",
       "  Text(3, 0, '43.0'),\n",
       "  Text(4, 0, '44.0'),\n",
       "  Text(5, 0, '45.0'),\n",
       "  Text(6, 0, '46.0'),\n",
       "  Text(7, 0, '47.0'),\n",
       "  Text(8, 0, '48.0'),\n",
       "  Text(9, 0, '49.0'),\n",
       "  Text(10, 0, '50.0'),\n",
       "  Text(11, 0, '51.0'),\n",
       "  Text(12, 0, '52.0'),\n",
       "  Text(13, 0, '53.0'),\n",
       "  Text(14, 0, '54.0'),\n",
       "  Text(15, 0, '55.0'),\n",
       "  Text(16, 0, '56.0'),\n",
       "  Text(17, 0, '57.0'),\n",
       "  Text(18, 0, '58.0'),\n",
       "  Text(19, 0, '59.0'),\n",
       "  Text(20, 0, '60.0'),\n",
       "  Text(21, 0, '60.667'),\n",
       "  Text(22, 0, '61.0'),\n",
       "  Text(23, 0, '62.0'),\n",
       "  Text(24, 0, '63.0'),\n",
       "  Text(25, 0, '64.0'),\n",
       "  Text(26, 0, '65.0'),\n",
       "  Text(27, 0, '66.0'),\n",
       "  Text(28, 0, '67.0'),\n",
       "  Text(29, 0, '68.0'),\n",
       "  Text(30, 0, '69.0'),\n",
       "  Text(31, 0, '70.0'),\n",
       "  Text(32, 0, '72.0'),\n",
       "  Text(33, 0, '73.0'),\n",
       "  Text(34, 0, '75.0'),\n",
       "  Text(35, 0, '77.0'),\n",
       "  Text(36, 0, '78.0'),\n",
       "  Text(37, 0, '79.0'),\n",
       "  Text(38, 0, '80.0'),\n",
       "  Text(39, 0, '81.0'),\n",
       "  Text(40, 0, '82.0'),\n",
       "  Text(41, 0, '85.0'),\n",
       "  Text(42, 0, '86.0'),\n",
       "  Text(43, 0, '87.0'),\n",
       "  Text(44, 0, '90.0'),\n",
       "  Text(45, 0, '94.0'),\n",
       "  Text(46, 0, '95.0')])"
      ]
     },
     "execution_count": 9,
     "metadata": {},
     "output_type": "execute_result"
    },
    {
     "data": {
      "image/png": "[encoded data removed]",
      "text/plain": [
       "<Figure size 1080x720 with 1 Axes>"
      ]
     },
     "metadata": {
      "needs_background": "light"
     },
     "output_type": "display_data"
    }
   ],
   "source": [
    "plt.rcParams['figure.figsize'] = (15,10)\n",
    "sns.countplot(x = data.age, hue = data.DEATH_EVENT)\n",
    "plt.xticks(rotation=90)"
   ]
  },
  {
   "cell_type": "markdown",
   "metadata": {
    "id": "x4BrXbLaWh1r"
   },
   "source": [
    "## Data Processing"
   ]
  },
  {
   "cell_type": "code",
   "execution_count": 10,
   "metadata": {
    "id": "c1cPOm4eWSSU"
   },
   "outputs": [],
   "source": [
    "X = data.drop('DEATH_EVENT', axis=1).values\n",
    "Y = data.DEATH_EVENT.values"
   ]
  },
  {
   "cell_type": "code",
   "execution_count": 11,
   "metadata": {
    "id": "z9kD5URgXRAi"
   },
   "outputs": [],
   "source": [
    "sc = StandardScaler()\n",
    "X = sc.fit_transform(X)"
   ]
  },
  {
   "cell_type": "code",
   "execution_count": 12,
   "metadata": {
    "id": "q5GqIfEhXcCi"
   },
   "outputs": [],
   "source": [
    "from sklearn.model_selection import train_test_split\n",
    "xtrain,xtest,ytrain,ytest = train_test_split(X,Y, test_size=0.2, random_state=0)"
   ]
  },
  {
   "cell_type": "markdown",
   "metadata": {
    "id": "SJY8-58RX4iU"
   },
   "source": [
    "## Model Building"
   ]
  },
  {
   "cell_type": "markdown",
   "metadata": {
    "id": "4JavB2pZX7hE"
   },
   "source": [
    "Without Dropout"
   ]
  },
  {
   "cell_type": "code",
   "execution_count": 13,
   "metadata": {
    "id": "e_vqed18X_wm"
   },
   "outputs": [],
   "source": [
    "model = Sequential()\n",
    "model.add(Dense(units=16, kernel_initializer='uniform', activation='relu', input_dim=12))\n",
    "model.add(Dense(units=8, kernel_initializer='uniform', activation='relu'))\n",
    "model.add(Dense(units=4, kernel_initializer='uniform', activation='relu'))\n",
    "model.add(Dense(units=1, kernel_initializer='uniform', activation='sigmoid'))"
   ]
  },
  {
   "cell_type": "code",
   "execution_count": 14,
   "metadata": {
    "colab": {
     "base_uri": "https://localhost:8080/"
    },
    "id": "rI8vsvGeaA1g",
    "outputId": "8fb88b39-ee38-45d9-84b9-0918cba28081"
   },
   "outputs": [
    {
     "name": "stdout",
     "output_type": "stream",
     "text": [
      "Epoch 1/100\n",
      "8/8 [==============================] - 3s 35ms/step - loss: 0.6924 - accuracy: 0.6778 - val_loss: 0.6922 - val_accuracy: 0.6167\n",
      "Epoch 2/100\n",
      "8/8 [==============================] - 0s 5ms/step - loss: 0.6910 - accuracy: 0.6946 - val_loss: 0.6913 - val_accuracy: 0.6167\n",
      "Epoch 3/100\n",
      "8/8 [==============================] - 0s 5ms/step - loss: 0.6894 - accuracy: 0.6946 - val_loss: 0.6905 - val_accuracy: 0.6167\n",
      "Epoch 4/100\n",
      "8/8 [==============================] - 0s 5ms/step - loss: 0.6881 - accuracy: 0.6946 - val_loss: 0.6895 - val_accuracy: 0.6167\n",
      "Epoch 5/100\n",
      "8/8 [==============================] - 0s 4ms/step - loss: 0.6864 - accuracy: 0.6946 - val_loss: 0.6887 - val_accuracy: 0.6167\n",
      "Epoch 6/100\n",
      "8/8 [==============================] - 0s 5ms/step - loss: 0.6850 - accuracy: 0.6946 - val_loss: 0.6876 - val_accuracy: 0.6167\n",
      "Epoch 7/100\n",
      "8/8 [==============================] - 0s 5ms/step - loss: 0.6832 - accuracy: 0.6946 - val_loss: 0.6864 - val_accuracy: 0.6167\n",
      "Epoch 8/100\n",
      "8/8 [==============================] - 0s 5ms/step - loss: 0.6811 - accuracy: 0.6946 - val_loss: 0.6850 - val_accuracy: 0.6167\n",
      "Epoch 9/100\n",
      "8/8 [==============================] - 0s 4ms/step - loss: 0.6787 - accuracy: 0.6946 - val_loss: 0.6831 - val_accuracy: 0.6167\n",
      "Epoch 10/100\n",
      "8/8 [==============================] - 0s 5ms/step - loss: 0.6757 - accuracy: 0.6946 - val_loss: 0.6805 - val_accuracy: 0.6167\n",
      "Epoch 11/100\n",
      "8/8 [==============================] - 0s 4ms/step - loss: 0.6717 - accuracy: 0.6946 - val_loss: 0.6772 - val_accuracy: 0.6167\n",
      "Epoch 12/100\n",
      "8/8 [==============================] - 0s 4ms/step - loss: 0.6670 - accuracy: 0.6946 - val_loss: 0.6727 - val_accuracy: 0.6167\n",
      "Epoch 13/100\n",
      "8/8 [==============================] - 0s 5ms/step - loss: 0.6606 - accuracy: 0.6946 - val_loss: 0.6673 - val_accuracy: 0.6167\n",
      "Epoch 14/100\n",
      "8/8 [==============================] - 0s 5ms/step - loss: 0.6527 - accuracy: 0.6946 - val_loss: 0.6602 - val_accuracy: 0.6167\n",
      "Epoch 15/100\n",
      "8/8 [==============================] - 0s 5ms/step - loss: 0.6431 - accuracy: 0.6946 - val_loss: 0.6513 - val_accuracy: 0.6167\n",
      "Epoch 16/100\n",
      "8/8 [==============================] - 0s 4ms/step - loss: 0.6311 - accuracy: 0.6946 - val_loss: 0.6410 - val_accuracy: 0.6167\n",
      "Epoch 17/100\n",
      "8/8 [==============================] - 0s 4ms/step - loss: 0.6170 - accuracy: 0.6987 - val_loss: 0.6288 - val_accuracy: 0.6167\n",
      "Epoch 18/100\n",
      "8/8 [==============================] - 0s 5ms/step - loss: 0.6004 - accuracy: 0.6987 - val_loss: 0.6149 - val_accuracy: 0.6167\n",
      "Epoch 19/100\n",
      "8/8 [==============================] - 0s 5ms/step - loss: 0.5828 - accuracy: 0.7113 - val_loss: 0.5987 - val_accuracy: 0.6333\n",
      "Epoch 20/100\n",
      "8/8 [==============================] - 0s 5ms/step - loss: 0.5621 - accuracy: 0.7448 - val_loss: 0.5819 - val_accuracy: 0.7000\n",
      "Epoch 21/100\n",
      "8/8 [==============================] - 0s 5ms/step - loss: 0.5412 - accuracy: 0.7741 - val_loss: 0.5645 - val_accuracy: 0.7167\n",
      "Epoch 22/100\n",
      "8/8 [==============================] - 0s 6ms/step - loss: 0.5189 - accuracy: 0.8326 - val_loss: 0.5467 - val_accuracy: 0.7667\n",
      "Epoch 23/100\n",
      "8/8 [==============================] - 0s 5ms/step - loss: 0.4968 - accuracy: 0.8536 - val_loss: 0.5298 - val_accuracy: 0.7667\n",
      "Epoch 24/100\n",
      "8/8 [==============================] - 0s 5ms/step - loss: 0.4750 - accuracy: 0.8577 - val_loss: 0.5141 - val_accuracy: 0.7667\n",
      "Epoch 25/100\n",
      "8/8 [==============================] - 0s 5ms/step - loss: 0.4547 - accuracy: 0.8536 - val_loss: 0.4995 - val_accuracy: 0.7833\n",
      "Epoch 26/100\n",
      "8/8 [==============================] - 0s 4ms/step - loss: 0.4371 - accuracy: 0.8577 - val_loss: 0.4871 - val_accuracy: 0.7833\n",
      "Epoch 27/100\n",
      "8/8 [==============================] - 0s 5ms/step - loss: 0.4192 - accuracy: 0.8536 - val_loss: 0.4755 - val_accuracy: 0.8000\n",
      "Epoch 28/100\n",
      "8/8 [==============================] - 0s 4ms/step - loss: 0.4037 - accuracy: 0.8536 - val_loss: 0.4647 - val_accuracy: 0.7833\n",
      "Epoch 29/100\n",
      "8/8 [==============================] - 0s 5ms/step - loss: 0.3917 - accuracy: 0.8536 - val_loss: 0.4571 - val_accuracy: 0.7833\n",
      "Epoch 30/100\n",
      "8/8 [==============================] - 0s 5ms/step - loss: 0.3806 - accuracy: 0.8619 - val_loss: 0.4509 - val_accuracy: 0.8000\n",
      "Epoch 31/100\n",
      "8/8 [==============================] - 0s 5ms/step - loss: 0.3710 - accuracy: 0.8494 - val_loss: 0.4457 - val_accuracy: 0.8000\n",
      "Epoch 32/100\n",
      "8/8 [==============================] - 0s 5ms/step - loss: 0.3638 - accuracy: 0.8494 - val_loss: 0.4435 - val_accuracy: 0.8000\n",
      "Epoch 33/100\n",
      "8/8 [==============================] - 0s 5ms/step - loss: 0.3580 - accuracy: 0.8452 - val_loss: 0.4402 - val_accuracy: 0.8167\n",
      "Epoch 34/100\n",
      "8/8 [==============================] - 0s 5ms/step - loss: 0.3530 - accuracy: 0.8494 - val_loss: 0.4395 - val_accuracy: 0.8167\n",
      "Epoch 35/100\n",
      "8/8 [==============================] - 0s 4ms/step - loss: 0.3498 - accuracy: 0.8452 - val_loss: 0.4408 - val_accuracy: 0.8167\n",
      "Epoch 36/100\n",
      "8/8 [==============================] - 0s 5ms/step - loss: 0.3464 - accuracy: 0.8452 - val_loss: 0.4399 - val_accuracy: 0.8167\n",
      "Epoch 37/100\n",
      "8/8 [==============================] - 0s 4ms/step - loss: 0.3436 - accuracy: 0.8410 - val_loss: 0.4389 - val_accuracy: 0.8167\n",
      "Epoch 38/100\n",
      "8/8 [==============================] - 0s 4ms/step - loss: 0.3410 - accuracy: 0.8410 - val_loss: 0.4381 - val_accuracy: 0.8167\n",
      "Epoch 39/100\n",
      "8/8 [==============================] - 0s 6ms/step - loss: 0.3394 - accuracy: 0.8410 - val_loss: 0.4371 - val_accuracy: 0.8167\n",
      "Epoch 40/100\n",
      "8/8 [==============================] - 0s 5ms/step - loss: 0.3377 - accuracy: 0.8410 - val_loss: 0.4397 - val_accuracy: 0.8167\n",
      "Epoch 41/100\n",
      "8/8 [==============================] - 0s 6ms/step - loss: 0.3361 - accuracy: 0.8410 - val_loss: 0.4403 - val_accuracy: 0.8167\n",
      "Epoch 42/100\n",
      "8/8 [==============================] - 0s 8ms/step - loss: 0.3349 - accuracy: 0.8494 - val_loss: 0.4413 - val_accuracy: 0.8167\n",
      "Epoch 43/100\n",
      "8/8 [==============================] - 0s 6ms/step - loss: 0.3338 - accuracy: 0.8536 - val_loss: 0.4451 - val_accuracy: 0.7833\n",
      "Epoch 44/100\n",
      "8/8 [==============================] - 0s 4ms/step - loss: 0.3326 - accuracy: 0.8536 - val_loss: 0.4471 - val_accuracy: 0.7833\n",
      "Epoch 45/100\n",
      "8/8 [==============================] - 0s 4ms/step - loss: 0.3316 - accuracy: 0.8536 - val_loss: 0.4462 - val_accuracy: 0.7667\n",
      "Epoch 46/100\n",
      "8/8 [==============================] - 0s 4ms/step - loss: 0.3310 - accuracy: 0.8577 - val_loss: 0.4492 - val_accuracy: 0.7667\n",
      "Epoch 47/100\n",
      "8/8 [==============================] - 0s 6ms/step - loss: 0.3297 - accuracy: 0.8577 - val_loss: 0.4501 - val_accuracy: 0.7667\n",
      "Epoch 48/100\n",
      "8/8 [==============================] - 0s 5ms/step - loss: 0.3288 - accuracy: 0.8577 - val_loss: 0.4506 - val_accuracy: 0.7667\n",
      "Epoch 49/100\n",
      "8/8 [==============================] - 0s 6ms/step - loss: 0.3279 - accuracy: 0.8577 - val_loss: 0.4502 - val_accuracy: 0.7667\n",
      "Epoch 50/100\n",
      "8/8 [==============================] - 0s 5ms/step - loss: 0.3276 - accuracy: 0.8536 - val_loss: 0.4531 - val_accuracy: 0.7667\n",
      "Epoch 51/100\n",
      "8/8 [==============================] - 0s 5ms/step - loss: 0.3263 - accuracy: 0.8577 - val_loss: 0.4541 - val_accuracy: 0.7667\n",
      "Epoch 52/100\n",
      "8/8 [==============================] - 0s 5ms/step - loss: 0.3254 - accuracy: 0.8577 - val_loss: 0.4553 - val_accuracy: 0.7667\n",
      "Epoch 53/100\n",
      "8/8 [==============================] - 0s 5ms/step - loss: 0.3247 - accuracy: 0.8577 - val_loss: 0.4535 - val_accuracy: 0.7667\n",
      "Epoch 54/100\n",
      "8/8 [==============================] - 0s 5ms/step - loss: 0.3242 - accuracy: 0.8577 - val_loss: 0.4535 - val_accuracy: 0.7667\n",
      "Epoch 55/100\n",
      "8/8 [==============================] - 0s 5ms/step - loss: 0.3236 - accuracy: 0.8577 - val_loss: 0.4524 - val_accuracy: 0.7667\n",
      "Epoch 56/100\n",
      "8/8 [==============================] - 0s 4ms/step - loss: 0.3229 - accuracy: 0.8577 - val_loss: 0.4551 - val_accuracy: 0.7667\n",
      "Epoch 57/100\n",
      "8/8 [==============================] - 0s 4ms/step - loss: 0.3219 - accuracy: 0.8619 - val_loss: 0.4568 - val_accuracy: 0.7667\n",
      "Epoch 58/100\n",
      "8/8 [==============================] - 0s 4ms/step - loss: 0.3214 - accuracy: 0.8619 - val_loss: 0.4595 - val_accuracy: 0.7667\n",
      "Epoch 59/100\n"
     ]
    },
    {
     "name": "stdout",
     "output_type": "stream",
     "text": [
      "8/8 [==============================] - 0s 12ms/step - loss: 0.3206 - accuracy: 0.8661 - val_loss: 0.4609 - val_accuracy: 0.7667\n",
      "Epoch 60/100\n",
      "8/8 [==============================] - 0s 5ms/step - loss: 0.3199 - accuracy: 0.8661 - val_loss: 0.4603 - val_accuracy: 0.7667\n",
      "Epoch 61/100\n",
      "8/8 [==============================] - 0s 5ms/step - loss: 0.3190 - accuracy: 0.8661 - val_loss: 0.4613 - val_accuracy: 0.7667\n",
      "Epoch 62/100\n",
      "8/8 [==============================] - 0s 5ms/step - loss: 0.3185 - accuracy: 0.8661 - val_loss: 0.4624 - val_accuracy: 0.8000\n",
      "Epoch 63/100\n",
      "8/8 [==============================] - 0s 5ms/step - loss: 0.3177 - accuracy: 0.8703 - val_loss: 0.4648 - val_accuracy: 0.8000\n",
      "Epoch 64/100\n",
      "8/8 [==============================] - 0s 5ms/step - loss: 0.3172 - accuracy: 0.8745 - val_loss: 0.4675 - val_accuracy: 0.8000\n",
      "Epoch 65/100\n",
      "8/8 [==============================] - 0s 6ms/step - loss: 0.3159 - accuracy: 0.8703 - val_loss: 0.4670 - val_accuracy: 0.8000\n",
      "Epoch 66/100\n",
      "8/8 [==============================] - 0s 6ms/step - loss: 0.3157 - accuracy: 0.8745 - val_loss: 0.4636 - val_accuracy: 0.8000\n",
      "Epoch 67/100\n",
      "8/8 [==============================] - 0s 5ms/step - loss: 0.3146 - accuracy: 0.8661 - val_loss: 0.4652 - val_accuracy: 0.8000\n",
      "Epoch 68/100\n",
      "8/8 [==============================] - 0s 6ms/step - loss: 0.3136 - accuracy: 0.8787 - val_loss: 0.4656 - val_accuracy: 0.8000\n",
      "Epoch 69/100\n",
      "8/8 [==============================] - 0s 6ms/step - loss: 0.3125 - accuracy: 0.8787 - val_loss: 0.4612 - val_accuracy: 0.8000\n",
      "Epoch 70/100\n",
      "8/8 [==============================] - 0s 5ms/step - loss: 0.3123 - accuracy: 0.8703 - val_loss: 0.4580 - val_accuracy: 0.8000\n",
      "Epoch 71/100\n",
      "8/8 [==============================] - 0s 11ms/step - loss: 0.3118 - accuracy: 0.8828 - val_loss: 0.4619 - val_accuracy: 0.8000\n",
      "Epoch 72/100\n",
      "8/8 [==============================] - 0s 6ms/step - loss: 0.3107 - accuracy: 0.8828 - val_loss: 0.4619 - val_accuracy: 0.8000\n",
      "Epoch 73/100\n",
      "8/8 [==============================] - 0s 4ms/step - loss: 0.3099 - accuracy: 0.8828 - val_loss: 0.4583 - val_accuracy: 0.8000\n",
      "Epoch 74/100\n",
      "8/8 [==============================] - 0s 4ms/step - loss: 0.3093 - accuracy: 0.8828 - val_loss: 0.4572 - val_accuracy: 0.8167\n",
      "Epoch 75/100\n",
      "8/8 [==============================] - 0s 4ms/step - loss: 0.3092 - accuracy: 0.8787 - val_loss: 0.4559 - val_accuracy: 0.8167\n",
      "Epoch 76/100\n",
      "8/8 [==============================] - 0s 4ms/step - loss: 0.3080 - accuracy: 0.8828 - val_loss: 0.4583 - val_accuracy: 0.8167\n",
      "Epoch 77/100\n",
      "8/8 [==============================] - 0s 4ms/step - loss: 0.3072 - accuracy: 0.8828 - val_loss: 0.4604 - val_accuracy: 0.8167\n",
      "Epoch 78/100\n",
      "8/8 [==============================] - 0s 4ms/step - loss: 0.3067 - accuracy: 0.8828 - val_loss: 0.4600 - val_accuracy: 0.8167\n",
      "Epoch 79/100\n",
      "8/8 [==============================] - 0s 4ms/step - loss: 0.3061 - accuracy: 0.8828 - val_loss: 0.4621 - val_accuracy: 0.8167\n",
      "Epoch 80/100\n",
      "8/8 [==============================] - 0s 4ms/step - loss: 0.3054 - accuracy: 0.8828 - val_loss: 0.4631 - val_accuracy: 0.8167\n",
      "Epoch 81/100\n",
      "8/8 [==============================] - 0s 4ms/step - loss: 0.3045 - accuracy: 0.8828 - val_loss: 0.4627 - val_accuracy: 0.8167\n",
      "Epoch 82/100\n",
      "8/8 [==============================] - 0s 4ms/step - loss: 0.3037 - accuracy: 0.8870 - val_loss: 0.4626 - val_accuracy: 0.8167\n",
      "Epoch 83/100\n",
      "8/8 [==============================] - 0s 4ms/step - loss: 0.3033 - accuracy: 0.8870 - val_loss: 0.4605 - val_accuracy: 0.8167\n",
      "Epoch 84/100\n",
      "8/8 [==============================] - 0s 4ms/step - loss: 0.3026 - accuracy: 0.8870 - val_loss: 0.4600 - val_accuracy: 0.8167\n",
      "Epoch 85/100\n",
      "8/8 [==============================] - 0s 5ms/step - loss: 0.3019 - accuracy: 0.8870 - val_loss: 0.4624 - val_accuracy: 0.8167\n",
      "Epoch 86/100\n",
      "8/8 [==============================] - 0s 5ms/step - loss: 0.3011 - accuracy: 0.8870 - val_loss: 0.4620 - val_accuracy: 0.8167\n",
      "Epoch 87/100\n",
      "8/8 [==============================] - 0s 5ms/step - loss: 0.3007 - accuracy: 0.8870 - val_loss: 0.4639 - val_accuracy: 0.8167\n",
      "Epoch 88/100\n",
      "8/8 [==============================] - 0s 5ms/step - loss: 0.2998 - accuracy: 0.8870 - val_loss: 0.4656 - val_accuracy: 0.8167\n",
      "Epoch 89/100\n",
      "8/8 [==============================] - 0s 5ms/step - loss: 0.2994 - accuracy: 0.8912 - val_loss: 0.4647 - val_accuracy: 0.8167\n",
      "Epoch 90/100\n",
      "8/8 [==============================] - 0s 5ms/step - loss: 0.2986 - accuracy: 0.8870 - val_loss: 0.4624 - val_accuracy: 0.8167\n",
      "Epoch 91/100\n",
      "8/8 [==============================] - 0s 5ms/step - loss: 0.2981 - accuracy: 0.8870 - val_loss: 0.4625 - val_accuracy: 0.8167\n",
      "Epoch 92/100\n",
      "8/8 [==============================] - 0s 4ms/step - loss: 0.2976 - accuracy: 0.8870 - val_loss: 0.4610 - val_accuracy: 0.8167\n",
      "Epoch 93/100\n",
      "8/8 [==============================] - 0s 5ms/step - loss: 0.2970 - accuracy: 0.8870 - val_loss: 0.4614 - val_accuracy: 0.8167\n",
      "Epoch 94/100\n",
      "8/8 [==============================] - 0s 4ms/step - loss: 0.2963 - accuracy: 0.8870 - val_loss: 0.4644 - val_accuracy: 0.8167\n",
      "Epoch 95/100\n",
      "8/8 [==============================] - 0s 5ms/step - loss: 0.2956 - accuracy: 0.8828 - val_loss: 0.4653 - val_accuracy: 0.8167\n",
      "Epoch 96/100\n",
      "8/8 [==============================] - 0s 5ms/step - loss: 0.2952 - accuracy: 0.8828 - val_loss: 0.4650 - val_accuracy: 0.8167\n",
      "Epoch 97/100\n",
      "8/8 [==============================] - 0s 5ms/step - loss: 0.2947 - accuracy: 0.8870 - val_loss: 0.4640 - val_accuracy: 0.8167\n",
      "Epoch 98/100\n",
      "8/8 [==============================] - 0s 6ms/step - loss: 0.2941 - accuracy: 0.8870 - val_loss: 0.4635 - val_accuracy: 0.8167\n",
      "Epoch 99/100\n",
      "8/8 [==============================] - 0s 5ms/step - loss: 0.2935 - accuracy: 0.8870 - val_loss: 0.4624 - val_accuracy: 0.8167\n",
      "Epoch 100/100\n",
      "8/8 [==============================] - 0s 5ms/step - loss: 0.2928 - accuracy: 0.8870 - val_loss: 0.4644 - val_accuracy: 0.8167\n"
     ]
    }
   ],
   "source": [
    "model.compile(optimizer='adam', loss='binary_crossentropy', metrics=['accuracy'])\n",
    "history = model.fit(xtrain, ytrain, validation_data=(xtest,ytest), batch_size=32, epochs=100)"
   ]
  },
  {
   "cell_type": "code",
   "execution_count": 15,
   "metadata": {
    "colab": {
     "base_uri": "https://localhost:8080/",
     "height": 417
    },
    "id": "zKxi5rQ2bN2U",
    "outputId": "be5a2d0d-ae49-4484-ee6c-9261d4bb602d"
   },
   "outputs": [
    {
     "data": {
      "text/html": [
       "<div>\n",
       "<style scoped>\n",
       "    .dataframe tbody tr th:only-of-type {\n",
       "        vertical-align: middle;\n",
       "    }\n",
       "\n",
       "    .dataframe tbody tr th {\n",
       "        vertical-align: top;\n",
       "    }\n",
       "\n",
       "    .dataframe thead th {\n",
       "        text-align: right;\n",
       "    }\n",
       "</style>\n",
       "<table border=\"1\" class=\"dataframe\">\n",
       "  <thead>\n",
       "    <tr style=\"text-align: right;\">\n",
       "      <th></th>\n",
       "      <th>loss</th>\n",
       "      <th>accuracy</th>\n",
       "      <th>val_loss</th>\n",
       "      <th>val_accuracy</th>\n",
       "    </tr>\n",
       "  </thead>\n",
       "  <tbody>\n",
       "    <tr>\n",
       "      <th>0</th>\n",
       "      <td>0.692391</td>\n",
       "      <td>0.677824</td>\n",
       "      <td>0.692232</td>\n",
       "      <td>0.616667</td>\n",
       "    </tr>\n",
       "    <tr>\n",
       "      <th>1</th>\n",
       "      <td>0.691012</td>\n",
       "      <td>0.694561</td>\n",
       "      <td>0.691325</td>\n",
       "      <td>0.616667</td>\n",
       "    </tr>\n",
       "    <tr>\n",
       "      <th>2</th>\n",
       "      <td>0.689367</td>\n",
       "      <td>0.694561</td>\n",
       "      <td>0.690472</td>\n",
       "      <td>0.616667</td>\n",
       "    </tr>\n",
       "    <tr>\n",
       "      <th>3</th>\n",
       "      <td>0.688051</td>\n",
       "      <td>0.694561</td>\n",
       "      <td>0.689535</td>\n",
       "      <td>0.616667</td>\n",
       "    </tr>\n",
       "    <tr>\n",
       "      <th>4</th>\n",
       "      <td>0.686422</td>\n",
       "      <td>0.694561</td>\n",
       "      <td>0.688664</td>\n",
       "      <td>0.616667</td>\n",
       "    </tr>\n",
       "    <tr>\n",
       "      <th>...</th>\n",
       "      <td>...</td>\n",
       "      <td>...</td>\n",
       "      <td>...</td>\n",
       "      <td>...</td>\n",
       "    </tr>\n",
       "    <tr>\n",
       "      <th>95</th>\n",
       "      <td>0.295154</td>\n",
       "      <td>0.882845</td>\n",
       "      <td>0.464971</td>\n",
       "      <td>0.816667</td>\n",
       "    </tr>\n",
       "    <tr>\n",
       "      <th>96</th>\n",
       "      <td>0.294671</td>\n",
       "      <td>0.887029</td>\n",
       "      <td>0.464049</td>\n",
       "      <td>0.816667</td>\n",
       "    </tr>\n",
       "    <tr>\n",
       "      <th>97</th>\n",
       "      <td>0.294127</td>\n",
       "      <td>0.887029</td>\n",
       "      <td>0.463535</td>\n",
       "      <td>0.816667</td>\n",
       "    </tr>\n",
       "    <tr>\n",
       "      <th>98</th>\n",
       "      <td>0.293503</td>\n",
       "      <td>0.887029</td>\n",
       "      <td>0.462365</td>\n",
       "      <td>0.816667</td>\n",
       "    </tr>\n",
       "    <tr>\n",
       "      <th>99</th>\n",
       "      <td>0.292762</td>\n",
       "      <td>0.887029</td>\n",
       "      <td>0.464376</td>\n",
       "      <td>0.816667</td>\n",
       "    </tr>\n",
       "  </tbody>\n",
       "</table>\n",
       "<p>100 rows × 4 columns</p>\n",
       "</div>"
      ],
      "text/plain": [
       "        loss  accuracy  val_loss  val_accuracy\n",
       "0   0.692391  0.677824  0.692232      0.616667\n",
       "1   0.691012  0.694561  0.691325      0.616667\n",
       "2   0.689367  0.694561  0.690472      0.616667\n",
       "3   0.688051  0.694561  0.689535      0.616667\n",
       "4   0.686422  0.694561  0.688664      0.616667\n",
       "..       ...       ...       ...           ...\n",
       "95  0.295154  0.882845  0.464971      0.816667\n",
       "96  0.294671  0.887029  0.464049      0.816667\n",
       "97  0.294127  0.887029  0.463535      0.816667\n",
       "98  0.293503  0.887029  0.462365      0.816667\n",
       "99  0.292762  0.887029  0.464376      0.816667\n",
       "\n",
       "[100 rows x 4 columns]"
      ]
     },
     "execution_count": 15,
     "metadata": {},
     "output_type": "execute_result"
    }
   ],
   "source": [
    "history = pd.DataFrame(history.history)\n",
    "history"
   ]
  },
  {
   "cell_type": "code",
   "execution_count": 16,
   "metadata": {
    "colab": {
     "base_uri": "https://localhost:8080/",
     "height": 592
    },
    "id": "atc_Av36oJld",
    "outputId": "66e0fbdb-ca7e-453c-bcf2-89da8762291a"
   },
   "outputs": [
    {
     "data": {
      "image/png": "[encoded data removed]",
      "text/plain": [
       "<Figure size 1080x720 with 1 Axes>"
      ]
     },
     "metadata": {
      "needs_background": "light"
     },
     "output_type": "display_data"
    }
   ],
   "source": [
    "plt.plot(history.loss)\n",
    "plt.plot(history.val_loss)\n",
    "plt.show()"
   ]
  },
  {
   "cell_type": "code",
   "execution_count": 17,
   "metadata": {
    "colab": {
     "base_uri": "https://localhost:8080/"
    },
    "id": "nzq-_NdWoemk",
    "outputId": "70c4d4bd-26a0-4160-9b36-0cc9414d0e40"
   },
   "outputs": [
    {
     "name": "stdout",
     "output_type": "stream",
     "text": [
      "Epoch 1/100\n",
      "8/8 [==============================] - 1s 23ms/step - loss: 0.6925 - accuracy: 0.6444 - val_loss: 0.6923 - val_accuracy: 0.6167\n",
      "Epoch 2/100\n",
      "8/8 [==============================] - 0s 5ms/step - loss: 0.6910 - accuracy: 0.6946 - val_loss: 0.6914 - val_accuracy: 0.6167\n",
      "Epoch 3/100\n",
      "8/8 [==============================] - 0s 5ms/step - loss: 0.6895 - accuracy: 0.6946 - val_loss: 0.6905 - val_accuracy: 0.6167\n",
      "Epoch 4/100\n",
      "8/8 [==============================] - 0s 5ms/step - loss: 0.6880 - accuracy: 0.6946 - val_loss: 0.6896 - val_accuracy: 0.6167\n",
      "Epoch 5/100\n",
      "8/8 [==============================] - 0s 6ms/step - loss: 0.6865 - accuracy: 0.6946 - val_loss: 0.6886 - val_accuracy: 0.6167\n",
      "Epoch 6/100\n",
      "8/8 [==============================] - 0s 5ms/step - loss: 0.6848 - accuracy: 0.6946 - val_loss: 0.6876 - val_accuracy: 0.6167\n",
      "Epoch 7/100\n",
      "8/8 [==============================] - 0s 5ms/step - loss: 0.6830 - accuracy: 0.6946 - val_loss: 0.6865 - val_accuracy: 0.6167\n",
      "Epoch 8/100\n",
      "8/8 [==============================] - 0s 5ms/step - loss: 0.6815 - accuracy: 0.6946 - val_loss: 0.6852 - val_accuracy: 0.6167\n",
      "Epoch 9/100\n",
      "8/8 [==============================] - 0s 6ms/step - loss: 0.6794 - accuracy: 0.6946 - val_loss: 0.6837 - val_accuracy: 0.6167\n",
      "Epoch 10/100\n",
      "8/8 [==============================] - 0s 5ms/step - loss: 0.6762 - accuracy: 0.6946 - val_loss: 0.6814 - val_accuracy: 0.6167\n",
      "Epoch 11/100\n",
      "8/8 [==============================] - 0s 5ms/step - loss: 0.6730 - accuracy: 0.6946 - val_loss: 0.6782 - val_accuracy: 0.6167\n",
      "Epoch 12/100\n",
      "8/8 [==============================] - 0s 5ms/step - loss: 0.6673 - accuracy: 0.6946 - val_loss: 0.6737 - val_accuracy: 0.6167\n",
      "Epoch 13/100\n",
      "8/8 [==============================] - 0s 8ms/step - loss: 0.6606 - accuracy: 0.6946 - val_loss: 0.6674 - val_accuracy: 0.6167\n",
      "Epoch 14/100\n",
      "8/8 [==============================] - 0s 5ms/step - loss: 0.6505 - accuracy: 0.6946 - val_loss: 0.6591 - val_accuracy: 0.6167\n",
      "Epoch 15/100\n",
      "8/8 [==============================] - 0s 5ms/step - loss: 0.6378 - accuracy: 0.6946 - val_loss: 0.6485 - val_accuracy: 0.6167\n",
      "Epoch 16/100\n",
      "8/8 [==============================] - 0s 5ms/step - loss: 0.6261 - accuracy: 0.6946 - val_loss: 0.6357 - val_accuracy: 0.6167\n",
      "Epoch 17/100\n",
      "8/8 [==============================] - 0s 5ms/step - loss: 0.6088 - accuracy: 0.6946 - val_loss: 0.6209 - val_accuracy: 0.6167\n",
      "Epoch 18/100\n",
      "8/8 [==============================] - 0s 5ms/step - loss: 0.5906 - accuracy: 0.6946 - val_loss: 0.6043 - val_accuracy: 0.6167\n",
      "Epoch 19/100\n",
      "8/8 [==============================] - 0s 5ms/step - loss: 0.5640 - accuracy: 0.6946 - val_loss: 0.5867 - val_accuracy: 0.6167\n",
      "Epoch 20/100\n",
      "8/8 [==============================] - 0s 5ms/step - loss: 0.5469 - accuracy: 0.6946 - val_loss: 0.5681 - val_accuracy: 0.6167\n",
      "Epoch 21/100\n",
      "8/8 [==============================] - 0s 5ms/step - loss: 0.5318 - accuracy: 0.6987 - val_loss: 0.5531 - val_accuracy: 0.6167\n",
      "Epoch 22/100\n",
      "8/8 [==============================] - 0s 5ms/step - loss: 0.5223 - accuracy: 0.6987 - val_loss: 0.5388 - val_accuracy: 0.6167\n",
      "Epoch 23/100\n",
      "8/8 [==============================] - 0s 5ms/step - loss: 0.5027 - accuracy: 0.7113 - val_loss: 0.5274 - val_accuracy: 0.6167\n",
      "Epoch 24/100\n",
      "8/8 [==============================] - 0s 5ms/step - loss: 0.4767 - accuracy: 0.7490 - val_loss: 0.5184 - val_accuracy: 0.6167\n",
      "Epoch 25/100\n",
      "8/8 [==============================] - 0s 5ms/step - loss: 0.4710 - accuracy: 0.7657 - val_loss: 0.5108 - val_accuracy: 0.6500\n",
      "Epoch 26/100\n",
      "8/8 [==============================] - 0s 5ms/step - loss: 0.4551 - accuracy: 0.7824 - val_loss: 0.5060 - val_accuracy: 0.6833\n",
      "Epoch 27/100\n",
      "8/8 [==============================] - 0s 5ms/step - loss: 0.4587 - accuracy: 0.8075 - val_loss: 0.5016 - val_accuracy: 0.7333\n",
      "Epoch 28/100\n",
      "8/8 [==============================] - 0s 5ms/step - loss: 0.4590 - accuracy: 0.7741 - val_loss: 0.4985 - val_accuracy: 0.7500\n",
      "Epoch 29/100\n",
      "8/8 [==============================] - 0s 5ms/step - loss: 0.4238 - accuracy: 0.8201 - val_loss: 0.4937 - val_accuracy: 0.7500\n",
      "Epoch 30/100\n",
      "8/8 [==============================] - 0s 5ms/step - loss: 0.4349 - accuracy: 0.8201 - val_loss: 0.4905 - val_accuracy: 0.7833\n",
      "Epoch 31/100\n",
      "8/8 [==============================] - 0s 6ms/step - loss: 0.4182 - accuracy: 0.8368 - val_loss: 0.4854 - val_accuracy: 0.7833\n",
      "Epoch 32/100\n",
      "8/8 [==============================] - 0s 5ms/step - loss: 0.4415 - accuracy: 0.8410 - val_loss: 0.4809 - val_accuracy: 0.8000\n",
      "Epoch 33/100\n",
      "8/8 [==============================] - 0s 5ms/step - loss: 0.4165 - accuracy: 0.7950 - val_loss: 0.4767 - val_accuracy: 0.8000\n",
      "Epoch 34/100\n",
      "8/8 [==============================] - 0s 5ms/step - loss: 0.4252 - accuracy: 0.8326 - val_loss: 0.4710 - val_accuracy: 0.7833\n",
      "Epoch 35/100\n",
      "8/8 [==============================] - 0s 5ms/step - loss: 0.4207 - accuracy: 0.8159 - val_loss: 0.4670 - val_accuracy: 0.7833\n",
      "Epoch 36/100\n",
      "8/8 [==============================] - 0s 5ms/step - loss: 0.4156 - accuracy: 0.8285 - val_loss: 0.4639 - val_accuracy: 0.8000\n",
      "Epoch 37/100\n",
      "8/8 [==============================] - 0s 5ms/step - loss: 0.3885 - accuracy: 0.8243 - val_loss: 0.4624 - val_accuracy: 0.7833\n",
      "Epoch 38/100\n",
      "8/8 [==============================] - 0s 5ms/step - loss: 0.3908 - accuracy: 0.8326 - val_loss: 0.4603 - val_accuracy: 0.8000\n",
      "Epoch 39/100\n",
      "8/8 [==============================] - 0s 6ms/step - loss: 0.4078 - accuracy: 0.8285 - val_loss: 0.4574 - val_accuracy: 0.8000\n",
      "Epoch 40/100\n",
      "8/8 [==============================] - 0s 5ms/step - loss: 0.4225 - accuracy: 0.7950 - val_loss: 0.4588 - val_accuracy: 0.8000\n",
      "Epoch 41/100\n",
      "8/8 [==============================] - 0s 6ms/step - loss: 0.4054 - accuracy: 0.8243 - val_loss: 0.4587 - val_accuracy: 0.8000\n",
      "Epoch 42/100\n",
      "8/8 [==============================] - 0s 5ms/step - loss: 0.3733 - accuracy: 0.8326 - val_loss: 0.4570 - val_accuracy: 0.8000\n",
      "Epoch 43/100\n",
      "8/8 [==============================] - 0s 5ms/step - loss: 0.4048 - accuracy: 0.8285 - val_loss: 0.4559 - val_accuracy: 0.8000\n",
      "Epoch 44/100\n",
      "8/8 [==============================] - 0s 5ms/step - loss: 0.3746 - accuracy: 0.8536 - val_loss: 0.4576 - val_accuracy: 0.8000\n",
      "Epoch 45/100\n",
      "8/8 [==============================] - 0s 5ms/step - loss: 0.3983 - accuracy: 0.8285 - val_loss: 0.4594 - val_accuracy: 0.8000\n",
      "Epoch 46/100\n",
      "8/8 [==============================] - 0s 5ms/step - loss: 0.3937 - accuracy: 0.8452 - val_loss: 0.4600 - val_accuracy: 0.8000\n",
      "Epoch 47/100\n",
      "8/8 [==============================] - 0s 5ms/step - loss: 0.3744 - accuracy: 0.8201 - val_loss: 0.4596 - val_accuracy: 0.8000\n",
      "Epoch 48/100\n",
      "8/8 [==============================] - 0s 5ms/step - loss: 0.3410 - accuracy: 0.8410 - val_loss: 0.4605 - val_accuracy: 0.8000\n",
      "Epoch 49/100\n",
      "8/8 [==============================] - 0s 5ms/step - loss: 0.4023 - accuracy: 0.8410 - val_loss: 0.4605 - val_accuracy: 0.8000\n",
      "Epoch 50/100\n",
      "8/8 [==============================] - 0s 5ms/step - loss: 0.4261 - accuracy: 0.8159 - val_loss: 0.4619 - val_accuracy: 0.8000\n",
      "Epoch 51/100\n",
      "8/8 [==============================] - 0s 5ms/step - loss: 0.3991 - accuracy: 0.8326 - val_loss: 0.4637 - val_accuracy: 0.8000\n",
      "Epoch 52/100\n",
      "8/8 [==============================] - 0s 6ms/step - loss: 0.4043 - accuracy: 0.8117 - val_loss: 0.4630 - val_accuracy: 0.8000\n",
      "Epoch 53/100\n",
      "8/8 [==============================] - 0s 5ms/step - loss: 0.3661 - accuracy: 0.8452 - val_loss: 0.4617 - val_accuracy: 0.8000\n",
      "Epoch 54/100\n",
      "8/8 [==============================] - 0s 5ms/step - loss: 0.3958 - accuracy: 0.8159 - val_loss: 0.4603 - val_accuracy: 0.8000\n",
      "Epoch 55/100\n",
      "8/8 [==============================] - 0s 4ms/step - loss: 0.3758 - accuracy: 0.8201 - val_loss: 0.4597 - val_accuracy: 0.7833\n",
      "Epoch 56/100\n",
      "8/8 [==============================] - 0s 4ms/step - loss: 0.3862 - accuracy: 0.8368 - val_loss: 0.4579 - val_accuracy: 0.7833\n",
      "Epoch 57/100\n",
      "8/8 [==============================] - 0s 5ms/step - loss: 0.3808 - accuracy: 0.8326 - val_loss: 0.4589 - val_accuracy: 0.7667\n",
      "Epoch 58/100\n",
      "8/8 [==============================] - 0s 4ms/step - loss: 0.4238 - accuracy: 0.8368 - val_loss: 0.4595 - val_accuracy: 0.7667\n",
      "Epoch 59/100\n"
     ]
    },
    {
     "name": "stdout",
     "output_type": "stream",
     "text": [
      "8/8 [==============================] - 0s 4ms/step - loss: 0.3974 - accuracy: 0.8368 - val_loss: 0.4574 - val_accuracy: 0.7667\n",
      "Epoch 60/100\n",
      "8/8 [==============================] - 0s 4ms/step - loss: 0.3823 - accuracy: 0.8326 - val_loss: 0.4579 - val_accuracy: 0.7667\n",
      "Epoch 61/100\n",
      "8/8 [==============================] - 0s 4ms/step - loss: 0.3530 - accuracy: 0.8452 - val_loss: 0.4567 - val_accuracy: 0.7667\n",
      "Epoch 62/100\n",
      "8/8 [==============================] - 0s 4ms/step - loss: 0.3731 - accuracy: 0.8452 - val_loss: 0.4570 - val_accuracy: 0.7667\n",
      "Epoch 63/100\n",
      "8/8 [==============================] - 0s 4ms/step - loss: 0.3829 - accuracy: 0.8326 - val_loss: 0.4567 - val_accuracy: 0.7667\n",
      "Epoch 64/100\n",
      "8/8 [==============================] - 0s 4ms/step - loss: 0.3750 - accuracy: 0.8285 - val_loss: 0.4542 - val_accuracy: 0.7667\n",
      "Epoch 65/100\n",
      "8/8 [==============================] - 0s 4ms/step - loss: 0.3580 - accuracy: 0.8368 - val_loss: 0.4522 - val_accuracy: 0.7667\n",
      "Epoch 66/100\n",
      "8/8 [==============================] - 0s 4ms/step - loss: 0.3581 - accuracy: 0.8619 - val_loss: 0.4526 - val_accuracy: 0.7667\n",
      "Epoch 67/100\n",
      "8/8 [==============================] - 0s 4ms/step - loss: 0.3469 - accuracy: 0.8452 - val_loss: 0.4550 - val_accuracy: 0.7667\n",
      "Epoch 68/100\n",
      "8/8 [==============================] - 0s 4ms/step - loss: 0.3865 - accuracy: 0.8285 - val_loss: 0.4550 - val_accuracy: 0.7667\n",
      "Epoch 69/100\n",
      "8/8 [==============================] - 0s 4ms/step - loss: 0.3999 - accuracy: 0.8536 - val_loss: 0.4584 - val_accuracy: 0.7667\n",
      "Epoch 70/100\n",
      "8/8 [==============================] - 0s 4ms/step - loss: 0.3451 - accuracy: 0.8285 - val_loss: 0.4594 - val_accuracy: 0.7667\n",
      "Epoch 71/100\n",
      "8/8 [==============================] - 0s 4ms/step - loss: 0.3620 - accuracy: 0.8452 - val_loss: 0.4588 - val_accuracy: 0.7667\n",
      "Epoch 72/100\n",
      "8/8 [==============================] - 0s 4ms/step - loss: 0.3810 - accuracy: 0.8577 - val_loss: 0.4599 - val_accuracy: 0.7667\n",
      "Epoch 73/100\n",
      "8/8 [==============================] - 0s 4ms/step - loss: 0.3655 - accuracy: 0.8536 - val_loss: 0.4564 - val_accuracy: 0.7667\n",
      "Epoch 74/100\n",
      "8/8 [==============================] - 0s 4ms/step - loss: 0.3706 - accuracy: 0.8577 - val_loss: 0.4542 - val_accuracy: 0.7667\n",
      "Epoch 75/100\n",
      "8/8 [==============================] - 0s 4ms/step - loss: 0.3730 - accuracy: 0.8326 - val_loss: 0.4532 - val_accuracy: 0.7667\n",
      "Epoch 76/100\n",
      "8/8 [==============================] - 0s 4ms/step - loss: 0.3841 - accuracy: 0.8577 - val_loss: 0.4522 - val_accuracy: 0.7667\n",
      "Epoch 77/100\n",
      "8/8 [==============================] - 0s 5ms/step - loss: 0.3777 - accuracy: 0.8536 - val_loss: 0.4474 - val_accuracy: 0.7833\n",
      "Epoch 78/100\n",
      "8/8 [==============================] - 0s 4ms/step - loss: 0.3571 - accuracy: 0.8494 - val_loss: 0.4467 - val_accuracy: 0.7833\n",
      "Epoch 79/100\n",
      "8/8 [==============================] - 0s 4ms/step - loss: 0.3777 - accuracy: 0.8452 - val_loss: 0.4452 - val_accuracy: 0.7833\n",
      "Epoch 80/100\n",
      "8/8 [==============================] - 0s 4ms/step - loss: 0.3944 - accuracy: 0.8452 - val_loss: 0.4472 - val_accuracy: 0.7833\n",
      "Epoch 81/100\n",
      "8/8 [==============================] - 0s 4ms/step - loss: 0.3699 - accuracy: 0.8494 - val_loss: 0.4484 - val_accuracy: 0.7833\n",
      "Epoch 82/100\n",
      "8/8 [==============================] - 0s 4ms/step - loss: 0.3475 - accuracy: 0.8787 - val_loss: 0.4455 - val_accuracy: 0.7833\n",
      "Epoch 83/100\n",
      "8/8 [==============================] - 0s 4ms/step - loss: 0.3589 - accuracy: 0.8577 - val_loss: 0.4418 - val_accuracy: 0.7833\n",
      "Epoch 84/100\n",
      "8/8 [==============================] - 0s 4ms/step - loss: 0.3837 - accuracy: 0.8577 - val_loss: 0.4411 - val_accuracy: 0.7833\n",
      "Epoch 85/100\n",
      "8/8 [==============================] - 0s 4ms/step - loss: 0.3507 - accuracy: 0.8536 - val_loss: 0.4388 - val_accuracy: 0.7833\n",
      "Epoch 86/100\n",
      "8/8 [==============================] - 0s 4ms/step - loss: 0.3454 - accuracy: 0.8619 - val_loss: 0.4375 - val_accuracy: 0.7833\n",
      "Epoch 87/100\n",
      "8/8 [==============================] - ETA: 0s - loss: 0.2784 - accuracy: 0.90 - 0s 4ms/step - loss: 0.3239 - accuracy: 0.8745 - val_loss: 0.4389 - val_accuracy: 0.8167\n",
      "Epoch 88/100\n",
      "8/8 [==============================] - 0s 4ms/step - loss: 0.3621 - accuracy: 0.8494 - val_loss: 0.4435 - val_accuracy: 0.7833\n",
      "Epoch 89/100\n",
      "8/8 [==============================] - 0s 4ms/step - loss: 0.3480 - accuracy: 0.8703 - val_loss: 0.4483 - val_accuracy: 0.7833\n",
      "Epoch 90/100\n",
      "8/8 [==============================] - 0s 4ms/step - loss: 0.3524 - accuracy: 0.8619 - val_loss: 0.4509 - val_accuracy: 0.7833\n",
      "Epoch 91/100\n",
      "8/8 [==============================] - 0s 4ms/step - loss: 0.3568 - accuracy: 0.8661 - val_loss: 0.4512 - val_accuracy: 0.7833\n",
      "Epoch 92/100\n",
      "8/8 [==============================] - 0s 4ms/step - loss: 0.3595 - accuracy: 0.8619 - val_loss: 0.4539 - val_accuracy: 0.7833\n",
      "Epoch 93/100\n",
      "8/8 [==============================] - 0s 4ms/step - loss: 0.3242 - accuracy: 0.8828 - val_loss: 0.4529 - val_accuracy: 0.7833\n",
      "Epoch 94/100\n",
      "8/8 [==============================] - 0s 4ms/step - loss: 0.3495 - accuracy: 0.8703 - val_loss: 0.4489 - val_accuracy: 0.7833\n",
      "Epoch 95/100\n",
      "8/8 [==============================] - 0s 4ms/step - loss: 0.3602 - accuracy: 0.8536 - val_loss: 0.4491 - val_accuracy: 0.7833\n",
      "Epoch 96/100\n",
      "8/8 [==============================] - 0s 4ms/step - loss: 0.3346 - accuracy: 0.8745 - val_loss: 0.4537 - val_accuracy: 0.7833\n",
      "Epoch 97/100\n",
      "8/8 [==============================] - 0s 4ms/step - loss: 0.3217 - accuracy: 0.8703 - val_loss: 0.4539 - val_accuracy: 0.7667\n",
      "Epoch 98/100\n",
      "8/8 [==============================] - 0s 4ms/step - loss: 0.3562 - accuracy: 0.8703 - val_loss: 0.4571 - val_accuracy: 0.7667\n",
      "Epoch 99/100\n",
      "8/8 [==============================] - 0s 4ms/step - loss: 0.3561 - accuracy: 0.8619 - val_loss: 0.4575 - val_accuracy: 0.7833\n",
      "Epoch 100/100\n",
      "8/8 [==============================] - 0s 4ms/step - loss: 0.3576 - accuracy: 0.8452 - val_loss: 0.4598 - val_accuracy: 0.7833\n"
     ]
    }
   ],
   "source": [
    "model = Sequential()\n",
    "model.add(Dense(units=16, kernel_initializer='uniform', activation='relu', input_dim=12))\n",
    "model.add(Dense(units=8, kernel_initializer='uniform', activation='relu'))\n",
    "model.add(Dropout(0.25))\n",
    "model.add(Dense(units=4, kernel_initializer='uniform', activation='relu'))\n",
    "model.add(Dropout(0.25))\n",
    "model.add(Dense(units=1, kernel_initializer='uniform', activation='sigmoid'))\n",
    "model.compile(optimizer='adam', loss='binary_crossentropy', metrics=['accuracy'])\n",
    "history = model.fit(xtrain, ytrain, validation_data=(xtest,ytest), batch_size=32, epochs=100)"
   ]
  },
  {
   "cell_type": "code",
   "execution_count": 18,
   "metadata": {
    "colab": {
     "base_uri": "https://localhost:8080/",
     "height": 592
    },
    "id": "Kw4b9Kslo3Gv",
    "outputId": "9948434e-da8c-4ac9-aa81-27bf24771cb3"
   },
   "outputs": [
    {
     "data": {
      "image/png": "[encoded data removed]",
      "text/plain": [
       "<Figure size 1080x720 with 1 Axes>"
      ]
     },
     "metadata": {
      "needs_background": "light"
     },
     "output_type": "display_data"
    }
   ],
   "source": [
    "history = pd.DataFrame(history.history)\n",
    "plt.plot(history.loss)\n",
    "plt.plot(history.val_loss)\n",
    "plt.show()"
   ]
  },
  {
   "cell_type": "code",
   "execution_count": 19,
   "metadata": {
    "colab": {
     "base_uri": "https://localhost:8080/"
    },
    "id": "dDaP0nKdo98Z",
    "outputId": "a3d98dac-97c5-46b7-e4f4-26ca5f7bd860"
   },
   "outputs": [
    {
     "name": "stdout",
     "output_type": "stream",
     "text": [
      "Epoch 1/100\n",
      "8/8 [==============================] - 1s 20ms/step - loss: 0.7069 - accuracy: 0.5649 - val_loss: 0.6941 - val_accuracy: 0.5167\n",
      "Epoch 2/100\n",
      "8/8 [==============================] - 0s 5ms/step - loss: 0.7043 - accuracy: 0.5941 - val_loss: 0.6927 - val_accuracy: 0.5833\n",
      "Epoch 3/100\n",
      "8/8 [==============================] - 0s 5ms/step - loss: 0.6966 - accuracy: 0.6527 - val_loss: 0.6915 - val_accuracy: 0.5833\n",
      "Epoch 4/100\n",
      "8/8 [==============================] - 0s 5ms/step - loss: 0.6947 - accuracy: 0.6444 - val_loss: 0.6904 - val_accuracy: 0.5833\n",
      "Epoch 5/100\n",
      "8/8 [==============================] - 0s 5ms/step - loss: 0.7015 - accuracy: 0.5983 - val_loss: 0.6887 - val_accuracy: 0.6333\n",
      "Epoch 6/100\n",
      "8/8 [==============================] - 0s 5ms/step - loss: 0.7026 - accuracy: 0.6067 - val_loss: 0.6874 - val_accuracy: 0.6333\n",
      "Epoch 7/100\n",
      "8/8 [==============================] - 0s 4ms/step - loss: 0.6896 - accuracy: 0.6736 - val_loss: 0.6862 - val_accuracy: 0.6333\n",
      "Epoch 8/100\n",
      "8/8 [==============================] - 0s 5ms/step - loss: 0.6819 - accuracy: 0.6987 - val_loss: 0.6852 - val_accuracy: 0.6333\n",
      "Epoch 9/100\n",
      "8/8 [==============================] - 0s 5ms/step - loss: 0.6798 - accuracy: 0.6946 - val_loss: 0.6842 - val_accuracy: 0.6333\n",
      "Epoch 10/100\n",
      "8/8 [==============================] - 0s 5ms/step - loss: 0.6832 - accuracy: 0.6862 - val_loss: 0.6834 - val_accuracy: 0.6333\n",
      "Epoch 11/100\n",
      "8/8 [==============================] - 0s 6ms/step - loss: 0.6765 - accuracy: 0.6987 - val_loss: 0.6826 - val_accuracy: 0.6333\n",
      "Epoch 12/100\n",
      "8/8 [==============================] - 0s 5ms/step - loss: 0.6782 - accuracy: 0.6736 - val_loss: 0.6815 - val_accuracy: 0.6333\n",
      "Epoch 13/100\n",
      "8/8 [==============================] - 0s 5ms/step - loss: 0.6707 - accuracy: 0.7155 - val_loss: 0.6806 - val_accuracy: 0.6333\n",
      "Epoch 14/100\n",
      "8/8 [==============================] - 0s 5ms/step - loss: 0.6745 - accuracy: 0.6820 - val_loss: 0.6798 - val_accuracy: 0.6167\n",
      "Epoch 15/100\n",
      "8/8 [==============================] - 0s 4ms/step - loss: 0.6683 - accuracy: 0.7155 - val_loss: 0.6793 - val_accuracy: 0.6167\n",
      "Epoch 16/100\n",
      "8/8 [==============================] - 0s 5ms/step - loss: 0.6738 - accuracy: 0.6778 - val_loss: 0.6787 - val_accuracy: 0.6167\n",
      "Epoch 17/100\n",
      "8/8 [==============================] - 0s 5ms/step - loss: 0.6701 - accuracy: 0.7071 - val_loss: 0.6779 - val_accuracy: 0.6167\n",
      "Epoch 18/100\n",
      "8/8 [==============================] - 0s 5ms/step - loss: 0.6631 - accuracy: 0.6904 - val_loss: 0.6771 - val_accuracy: 0.6167\n",
      "Epoch 19/100\n",
      "8/8 [==============================] - 0s 5ms/step - loss: 0.6626 - accuracy: 0.6987 - val_loss: 0.6769 - val_accuracy: 0.6167\n",
      "Epoch 20/100\n",
      "8/8 [==============================] - 0s 5ms/step - loss: 0.6586 - accuracy: 0.7197 - val_loss: 0.6772 - val_accuracy: 0.6167\n",
      "Epoch 21/100\n",
      "8/8 [==============================] - 0s 5ms/step - loss: 0.6516 - accuracy: 0.6987 - val_loss: 0.6773 - val_accuracy: 0.6000\n",
      "Epoch 22/100\n",
      "8/8 [==============================] - 0s 5ms/step - loss: 0.6500 - accuracy: 0.7322 - val_loss: 0.6764 - val_accuracy: 0.6000\n",
      "Epoch 23/100\n",
      "8/8 [==============================] - 0s 5ms/step - loss: 0.6518 - accuracy: 0.7071 - val_loss: 0.6752 - val_accuracy: 0.6000\n",
      "Epoch 24/100\n",
      "8/8 [==============================] - 0s 5ms/step - loss: 0.6462 - accuracy: 0.7155 - val_loss: 0.6736 - val_accuracy: 0.5833\n",
      "Epoch 25/100\n",
      "8/8 [==============================] - 0s 5ms/step - loss: 0.6403 - accuracy: 0.6904 - val_loss: 0.6727 - val_accuracy: 0.5833\n",
      "Epoch 26/100\n",
      "8/8 [==============================] - 0s 4ms/step - loss: 0.6383 - accuracy: 0.6946 - val_loss: 0.6728 - val_accuracy: 0.6000\n",
      "Epoch 27/100\n",
      "8/8 [==============================] - 0s 5ms/step - loss: 0.6250 - accuracy: 0.7406 - val_loss: 0.6717 - val_accuracy: 0.6167\n",
      "Epoch 28/100\n",
      "8/8 [==============================] - 0s 5ms/step - loss: 0.6194 - accuracy: 0.7071 - val_loss: 0.6702 - val_accuracy: 0.6000\n",
      "Epoch 29/100\n",
      "8/8 [==============================] - 0s 4ms/step - loss: 0.6111 - accuracy: 0.7280 - val_loss: 0.6663 - val_accuracy: 0.6000\n",
      "Epoch 30/100\n",
      "8/8 [==============================] - 0s 5ms/step - loss: 0.5936 - accuracy: 0.7155 - val_loss: 0.6614 - val_accuracy: 0.6000\n",
      "Epoch 31/100\n",
      "8/8 [==============================] - 0s 5ms/step - loss: 0.6110 - accuracy: 0.7113 - val_loss: 0.6565 - val_accuracy: 0.6000\n",
      "Epoch 32/100\n",
      "8/8 [==============================] - 0s 5ms/step - loss: 0.5725 - accuracy: 0.7113 - val_loss: 0.6493 - val_accuracy: 0.6000\n",
      "Epoch 33/100\n",
      "8/8 [==============================] - 0s 5ms/step - loss: 0.5928 - accuracy: 0.7238 - val_loss: 0.6407 - val_accuracy: 0.6000\n",
      "Epoch 34/100\n",
      "8/8 [==============================] - 0s 5ms/step - loss: 0.5686 - accuracy: 0.7448 - val_loss: 0.6327 - val_accuracy: 0.6333\n",
      "Epoch 35/100\n",
      "8/8 [==============================] - 0s 5ms/step - loss: 0.5465 - accuracy: 0.7531 - val_loss: 0.6266 - val_accuracy: 0.6333\n",
      "Epoch 36/100\n",
      "8/8 [==============================] - 0s 5ms/step - loss: 0.5645 - accuracy: 0.7322 - val_loss: 0.6195 - val_accuracy: 0.6500\n",
      "Epoch 37/100\n",
      "8/8 [==============================] - 0s 5ms/step - loss: 0.5592 - accuracy: 0.7322 - val_loss: 0.6128 - val_accuracy: 0.6500\n",
      "Epoch 38/100\n",
      "8/8 [==============================] - 0s 6ms/step - loss: 0.5381 - accuracy: 0.7699 - val_loss: 0.6080 - val_accuracy: 0.6500\n",
      "Epoch 39/100\n",
      "8/8 [==============================] - 0s 5ms/step - loss: 0.5429 - accuracy: 0.7490 - val_loss: 0.6031 - val_accuracy: 0.6500\n",
      "Epoch 40/100\n",
      "8/8 [==============================] - 0s 5ms/step - loss: 0.5323 - accuracy: 0.7155 - val_loss: 0.5976 - val_accuracy: 0.6667\n",
      "Epoch 41/100\n",
      "8/8 [==============================] - 0s 6ms/step - loss: 0.5317 - accuracy: 0.7364 - val_loss: 0.5936 - val_accuracy: 0.6500\n",
      "Epoch 42/100\n",
      "8/8 [==============================] - 0s 5ms/step - loss: 0.5018 - accuracy: 0.7741 - val_loss: 0.5882 - val_accuracy: 0.6667\n",
      "Epoch 43/100\n",
      "8/8 [==============================] - 0s 6ms/step - loss: 0.5325 - accuracy: 0.7615 - val_loss: 0.5833 - val_accuracy: 0.6667\n",
      "Epoch 44/100\n",
      "8/8 [==============================] - 0s 5ms/step - loss: 0.5358 - accuracy: 0.7448 - val_loss: 0.5782 - val_accuracy: 0.7000\n",
      "Epoch 45/100\n",
      "8/8 [==============================] - 0s 6ms/step - loss: 0.5142 - accuracy: 0.7448 - val_loss: 0.5742 - val_accuracy: 0.7000\n",
      "Epoch 46/100\n",
      "8/8 [==============================] - 0s 6ms/step - loss: 0.5022 - accuracy: 0.7741 - val_loss: 0.5711 - val_accuracy: 0.7000\n",
      "Epoch 47/100\n",
      "8/8 [==============================] - 0s 6ms/step - loss: 0.5116 - accuracy: 0.7531 - val_loss: 0.5660 - val_accuracy: 0.7167\n",
      "Epoch 48/100\n",
      "8/8 [==============================] - 0s 6ms/step - loss: 0.4941 - accuracy: 0.7824 - val_loss: 0.5615 - val_accuracy: 0.7167\n",
      "Epoch 49/100\n",
      "8/8 [==============================] - 0s 6ms/step - loss: 0.5087 - accuracy: 0.7448 - val_loss: 0.5582 - val_accuracy: 0.7333\n",
      "Epoch 50/100\n",
      "8/8 [==============================] - 0s 6ms/step - loss: 0.4932 - accuracy: 0.7782 - val_loss: 0.5545 - val_accuracy: 0.7333\n",
      "Epoch 51/100\n",
      "8/8 [==============================] - 0s 6ms/step - loss: 0.5043 - accuracy: 0.7364 - val_loss: 0.5511 - val_accuracy: 0.7333\n",
      "Epoch 52/100\n",
      "8/8 [==============================] - 0s 6ms/step - loss: 0.4661 - accuracy: 0.7699 - val_loss: 0.5484 - val_accuracy: 0.7333\n",
      "Epoch 53/100\n",
      "8/8 [==============================] - 0s 5ms/step - loss: 0.4852 - accuracy: 0.7824 - val_loss: 0.5446 - val_accuracy: 0.7500\n",
      "Epoch 54/100\n",
      "8/8 [==============================] - 0s 6ms/step - loss: 0.4844 - accuracy: 0.7741 - val_loss: 0.5423 - val_accuracy: 0.7500\n",
      "Epoch 55/100\n",
      "8/8 [==============================] - 0s 5ms/step - loss: 0.4434 - accuracy: 0.8410 - val_loss: 0.5398 - val_accuracy: 0.7500\n",
      "Epoch 56/100\n",
      "8/8 [==============================] - 0s 5ms/step - loss: 0.4820 - accuracy: 0.7866 - val_loss: 0.5377 - val_accuracy: 0.7500\n",
      "Epoch 57/100\n",
      "8/8 [==============================] - 0s 6ms/step - loss: 0.4756 - accuracy: 0.7448 - val_loss: 0.5345 - val_accuracy: 0.7500\n",
      "Epoch 58/100\n",
      "8/8 [==============================] - 0s 6ms/step - loss: 0.4771 - accuracy: 0.7741 - val_loss: 0.5306 - val_accuracy: 0.7500\n",
      "Epoch 59/100\n"
     ]
    },
    {
     "name": "stdout",
     "output_type": "stream",
     "text": [
      "8/8 [==============================] - 0s 6ms/step - loss: 0.4939 - accuracy: 0.7950 - val_loss: 0.5271 - val_accuracy: 0.7500\n",
      "Epoch 60/100\n",
      "8/8 [==============================] - 0s 6ms/step - loss: 0.4835 - accuracy: 0.7699 - val_loss: 0.5252 - val_accuracy: 0.7500\n",
      "Epoch 61/100\n",
      "8/8 [==============================] - 0s 6ms/step - loss: 0.4682 - accuracy: 0.7908 - val_loss: 0.5224 - val_accuracy: 0.7500\n",
      "Epoch 62/100\n",
      "8/8 [==============================] - 0s 6ms/step - loss: 0.4702 - accuracy: 0.7782 - val_loss: 0.5201 - val_accuracy: 0.7500\n",
      "Epoch 63/100\n",
      "8/8 [==============================] - 0s 7ms/step - loss: 0.4267 - accuracy: 0.8201 - val_loss: 0.5173 - val_accuracy: 0.7500\n",
      "Epoch 64/100\n",
      "8/8 [==============================] - 0s 6ms/step - loss: 0.4709 - accuracy: 0.7699 - val_loss: 0.5159 - val_accuracy: 0.7500\n",
      "Epoch 65/100\n",
      "8/8 [==============================] - 0s 7ms/step - loss: 0.4533 - accuracy: 0.7531 - val_loss: 0.5145 - val_accuracy: 0.7500\n",
      "Epoch 66/100\n",
      "8/8 [==============================] - 0s 6ms/step - loss: 0.5095 - accuracy: 0.7615 - val_loss: 0.5131 - val_accuracy: 0.7500\n",
      "Epoch 67/100\n",
      "8/8 [==============================] - 0s 6ms/step - loss: 0.4714 - accuracy: 0.7657 - val_loss: 0.5097 - val_accuracy: 0.7500\n",
      "Epoch 68/100\n",
      "8/8 [==============================] - 0s 6ms/step - loss: 0.4584 - accuracy: 0.7992 - val_loss: 0.5062 - val_accuracy: 0.7500\n",
      "Epoch 69/100\n",
      "8/8 [==============================] - 0s 6ms/step - loss: 0.4463 - accuracy: 0.7950 - val_loss: 0.5032 - val_accuracy: 0.7333\n",
      "Epoch 70/100\n",
      "8/8 [==============================] - 0s 6ms/step - loss: 0.4435 - accuracy: 0.8033 - val_loss: 0.5013 - val_accuracy: 0.7333\n",
      "Epoch 71/100\n",
      "8/8 [==============================] - 0s 6ms/step - loss: 0.4468 - accuracy: 0.8117 - val_loss: 0.4985 - val_accuracy: 0.7333\n",
      "Epoch 72/100\n",
      "8/8 [==============================] - 0s 6ms/step - loss: 0.4565 - accuracy: 0.7908 - val_loss: 0.4949 - val_accuracy: 0.7500\n",
      "Epoch 73/100\n",
      "8/8 [==============================] - 0s 5ms/step - loss: 0.4554 - accuracy: 0.7824 - val_loss: 0.4915 - val_accuracy: 0.7333\n",
      "Epoch 74/100\n",
      "8/8 [==============================] - 0s 6ms/step - loss: 0.4441 - accuracy: 0.8075 - val_loss: 0.4872 - val_accuracy: 0.7333\n",
      "Epoch 75/100\n",
      "8/8 [==============================] - 0s 5ms/step - loss: 0.4599 - accuracy: 0.7699 - val_loss: 0.4853 - val_accuracy: 0.7333\n",
      "Epoch 76/100\n",
      "8/8 [==============================] - 0s 5ms/step - loss: 0.4210 - accuracy: 0.7908 - val_loss: 0.4851 - val_accuracy: 0.7333\n",
      "Epoch 77/100\n",
      "8/8 [==============================] - 0s 5ms/step - loss: 0.4399 - accuracy: 0.7992 - val_loss: 0.4845 - val_accuracy: 0.7500\n",
      "Epoch 78/100\n",
      "8/8 [==============================] - 0s 5ms/step - loss: 0.4378 - accuracy: 0.7782 - val_loss: 0.4842 - val_accuracy: 0.7500\n",
      "Epoch 79/100\n",
      "8/8 [==============================] - 0s 5ms/step - loss: 0.4167 - accuracy: 0.7824 - val_loss: 0.4831 - val_accuracy: 0.7500\n",
      "Epoch 80/100\n",
      "8/8 [==============================] - 0s 4ms/step - loss: 0.4205 - accuracy: 0.7866 - val_loss: 0.4824 - val_accuracy: 0.7500\n",
      "Epoch 81/100\n",
      "8/8 [==============================] - 0s 4ms/step - loss: 0.4178 - accuracy: 0.8075 - val_loss: 0.4799 - val_accuracy: 0.7500\n",
      "Epoch 82/100\n",
      "8/8 [==============================] - 0s 4ms/step - loss: 0.4482 - accuracy: 0.7782 - val_loss: 0.4781 - val_accuracy: 0.7500\n",
      "Epoch 83/100\n",
      "8/8 [==============================] - 0s 4ms/step - loss: 0.4359 - accuracy: 0.8033 - val_loss: 0.4762 - val_accuracy: 0.7500\n",
      "Epoch 84/100\n",
      "8/8 [==============================] - 0s 4ms/step - loss: 0.4375 - accuracy: 0.8117 - val_loss: 0.4736 - val_accuracy: 0.7333\n",
      "Epoch 85/100\n",
      "8/8 [==============================] - 0s 4ms/step - loss: 0.4475 - accuracy: 0.7866 - val_loss: 0.4722 - val_accuracy: 0.7500\n",
      "Epoch 86/100\n",
      "8/8 [==============================] - 0s 4ms/step - loss: 0.4180 - accuracy: 0.8117 - val_loss: 0.4713 - val_accuracy: 0.7500\n",
      "Epoch 87/100\n",
      "8/8 [==============================] - 0s 4ms/step - loss: 0.4541 - accuracy: 0.7824 - val_loss: 0.4713 - val_accuracy: 0.7333\n",
      "Epoch 88/100\n",
      "8/8 [==============================] - 0s 4ms/step - loss: 0.4377 - accuracy: 0.7866 - val_loss: 0.4700 - val_accuracy: 0.7333\n",
      "Epoch 89/100\n",
      "8/8 [==============================] - 0s 4ms/step - loss: 0.4476 - accuracy: 0.7615 - val_loss: 0.4707 - val_accuracy: 0.7333\n",
      "Epoch 90/100\n",
      "8/8 [==============================] - 0s 5ms/step - loss: 0.4064 - accuracy: 0.8033 - val_loss: 0.4718 - val_accuracy: 0.7500\n",
      "Epoch 91/100\n",
      "8/8 [==============================] - 0s 6ms/step - loss: 0.4421 - accuracy: 0.8075 - val_loss: 0.4723 - val_accuracy: 0.7500\n",
      "Epoch 92/100\n",
      "8/8 [==============================] - 0s 7ms/step - loss: 0.4066 - accuracy: 0.7908 - val_loss: 0.4700 - val_accuracy: 0.7500\n",
      "Epoch 93/100\n",
      "8/8 [==============================] - 0s 7ms/step - loss: 0.4225 - accuracy: 0.7866 - val_loss: 0.4694 - val_accuracy: 0.7500\n",
      "Epoch 94/100\n",
      "8/8 [==============================] - 0s 5ms/step - loss: 0.4164 - accuracy: 0.7992 - val_loss: 0.4687 - val_accuracy: 0.7500\n",
      "Epoch 95/100\n",
      "8/8 [==============================] - 0s 5ms/step - loss: 0.4373 - accuracy: 0.7992 - val_loss: 0.4674 - val_accuracy: 0.7500\n",
      "Epoch 96/100\n",
      "8/8 [==============================] - 0s 5ms/step - loss: 0.4283 - accuracy: 0.7950 - val_loss: 0.4656 - val_accuracy: 0.7500\n",
      "Epoch 97/100\n",
      "8/8 [==============================] - 0s 5ms/step - loss: 0.4186 - accuracy: 0.8117 - val_loss: 0.4647 - val_accuracy: 0.7500\n",
      "Epoch 98/100\n",
      "8/8 [==============================] - 0s 5ms/step - loss: 0.4112 - accuracy: 0.7992 - val_loss: 0.4649 - val_accuracy: 0.7500\n",
      "Epoch 99/100\n",
      "8/8 [==============================] - 0s 5ms/step - loss: 0.3962 - accuracy: 0.8201 - val_loss: 0.4641 - val_accuracy: 0.7500\n",
      "Epoch 100/100\n",
      "8/8 [==============================] - 0s 5ms/step - loss: 0.3976 - accuracy: 0.8159 - val_loss: 0.4644 - val_accuracy: 0.7500\n"
     ]
    }
   ],
   "source": [
    "model = Sequential()\n",
    "model.add(Dense(units=16, kernel_initializer='glorot_uniform', activation='relu', input_dim=12))\n",
    "model.add(Dense(units=8, kernel_initializer='glorot_uniform', activation='relu'))\n",
    "model.add(Dropout(0.25))\n",
    "model.add(Dense(units=4, kernel_initializer='glorot_uniform', activation='relu'))\n",
    "model.add(Dropout(0.25))\n",
    "model.add(Dense(units=1, kernel_initializer='glorot_uniform', activation='sigmoid'))\n",
    "model.compile(optimizer='adam', loss='binary_crossentropy', metrics=['accuracy'])\n",
    "history = model.fit(xtrain, ytrain, validation_data=(xtest,ytest), batch_size=32, epochs=100)"
   ]
  },
  {
   "cell_type": "code",
   "execution_count": 20,
   "metadata": {
    "colab": {
     "base_uri": "https://localhost:8080/",
     "height": 592
    },
    "id": "ZKDL-OkippXV",
    "outputId": "2b996e03-0416-4196-93d6-3ecb4dcde017"
   },
   "outputs": [
    {
     "data": {
      "image/png": "[encoded data removed]",
      "text/plain": [
       "<Figure size 1080x720 with 1 Axes>"
      ]
     },
     "metadata": {
      "needs_background": "light"
     },
     "output_type": "display_data"
    }
   ],
   "source": [
    "history = pd.DataFrame(history.history)\n",
    "plt.plot(history.loss)\n",
    "plt.plot(history.val_loss)\n",
    "plt.show()"
   ]
  },
  {
   "cell_type": "code",
   "execution_count": 21,
   "metadata": {
    "colab": {
     "base_uri": "https://localhost:8080/"
    },
    "id": "tcmCXBaep0o3",
    "outputId": "bd58f344-2edc-44e5-b5e4-94354bc235e4"
   },
   "outputs": [
    {
     "data": {
      "text/plain": [
       "0.5305917319655419"
      ]
     },
     "execution_count": 21,
     "metadata": {},
     "output_type": "execute_result"
    }
   ],
   "source": [
    "history.loss.mean()"
   ]
  },
  {
   "cell_type": "code",
   "execution_count": 22,
   "metadata": {
    "colab": {
     "base_uri": "https://localhost:8080/"
    },
    "id": "rz_DquHLp60c",
    "outputId": "2d93d302-efb9-468f-f53a-6ca6af17591b"
   },
   "outputs": [
    {
     "data": {
      "text/plain": [
       "0.7492887026071549"
      ]
     },
     "execution_count": 22,
     "metadata": {},
     "output_type": "execute_result"
    }
   ],
   "source": [
    "history.accuracy.mean()"
   ]
  },
  {
   "cell_type": "code",
   "execution_count": 24,
   "metadata": {
    "id": "B1D3zFQ2p_A5"
   },
   "outputs": [
    {
     "name": "stdout",
     "output_type": "stream",
     "text": [
      "Epoch 1/100\n",
      "8/8 [==============================] - 1s 21ms/step - loss: 0.6711 - accuracy: 0.6820 - val_loss: 0.6734 - val_accuracy: 0.6167\n",
      "Epoch 2/100\n",
      "8/8 [==============================] - 0s 5ms/step - loss: 0.7326 - accuracy: 0.6653 - val_loss: 0.6671 - val_accuracy: 0.6333\n",
      "Epoch 3/100\n",
      "8/8 [==============================] - 0s 5ms/step - loss: 0.7143 - accuracy: 0.6192 - val_loss: 0.6622 - val_accuracy: 0.6167\n",
      "Epoch 4/100\n",
      "8/8 [==============================] - 0s 5ms/step - loss: 0.6679 - accuracy: 0.6527 - val_loss: 0.6584 - val_accuracy: 0.6167\n",
      "Epoch 5/100\n",
      "8/8 [==============================] - 0s 5ms/step - loss: 0.6614 - accuracy: 0.6653 - val_loss: 0.6559 - val_accuracy: 0.6167\n",
      "Epoch 6/100\n",
      "8/8 [==============================] - 0s 5ms/step - loss: 0.6571 - accuracy: 0.6778 - val_loss: 0.6518 - val_accuracy: 0.6167\n",
      "Epoch 7/100\n",
      "8/8 [==============================] - 0s 5ms/step - loss: 0.6672 - accuracy: 0.6276 - val_loss: 0.6485 - val_accuracy: 0.6167\n",
      "Epoch 8/100\n",
      "8/8 [==============================] - 0s 5ms/step - loss: 0.7006 - accuracy: 0.6527 - val_loss: 0.6465 - val_accuracy: 0.6167\n",
      "Epoch 9/100\n",
      "8/8 [==============================] - 0s 4ms/step - loss: 0.6670 - accuracy: 0.6485 - val_loss: 0.6438 - val_accuracy: 0.6167\n",
      "Epoch 10/100\n",
      "8/8 [==============================] - 0s 5ms/step - loss: 0.6253 - accuracy: 0.6862 - val_loss: 0.6413 - val_accuracy: 0.6167\n",
      "Epoch 11/100\n",
      "8/8 [==============================] - 0s 6ms/step - loss: 0.6440 - accuracy: 0.6444 - val_loss: 0.6400 - val_accuracy: 0.6167\n",
      "Epoch 12/100\n",
      "8/8 [==============================] - 0s 5ms/step - loss: 0.6173 - accuracy: 0.6820 - val_loss: 0.6388 - val_accuracy: 0.6167\n",
      "Epoch 13/100\n",
      "8/8 [==============================] - 0s 5ms/step - loss: 0.6505 - accuracy: 0.6736 - val_loss: 0.6367 - val_accuracy: 0.6167\n",
      "Epoch 14/100\n",
      "8/8 [==============================] - 0s 5ms/step - loss: 0.6315 - accuracy: 0.6862 - val_loss: 0.6343 - val_accuracy: 0.6167\n",
      "Epoch 15/100\n",
      "8/8 [==============================] - 0s 5ms/step - loss: 0.6380 - accuracy: 0.6611 - val_loss: 0.6317 - val_accuracy: 0.6167\n",
      "Epoch 16/100\n",
      "8/8 [==============================] - 0s 5ms/step - loss: 0.6252 - accuracy: 0.6611 - val_loss: 0.6303 - val_accuracy: 0.6167\n",
      "Epoch 17/100\n",
      "8/8 [==============================] - 0s 5ms/step - loss: 0.6386 - accuracy: 0.6695 - val_loss: 0.6294 - val_accuracy: 0.6167\n",
      "Epoch 18/100\n",
      "8/8 [==============================] - 0s 5ms/step - loss: 0.6229 - accuracy: 0.6695 - val_loss: 0.6282 - val_accuracy: 0.6167\n",
      "Epoch 19/100\n",
      "8/8 [==============================] - 0s 5ms/step - loss: 0.6285 - accuracy: 0.6695 - val_loss: 0.6269 - val_accuracy: 0.6167\n",
      "Epoch 20/100\n",
      "8/8 [==============================] - 0s 5ms/step - loss: 0.6235 - accuracy: 0.6736 - val_loss: 0.6266 - val_accuracy: 0.6167\n",
      "Epoch 21/100\n",
      "8/8 [==============================] - 0s 5ms/step - loss: 0.6099 - accuracy: 0.6736 - val_loss: 0.6257 - val_accuracy: 0.6167\n",
      "Epoch 22/100\n",
      "8/8 [==============================] - 0s 5ms/step - loss: 0.6130 - accuracy: 0.6611 - val_loss: 0.6250 - val_accuracy: 0.6167\n",
      "Epoch 23/100\n",
      "8/8 [==============================] - 0s 5ms/step - loss: 0.6165 - accuracy: 0.6736 - val_loss: 0.6253 - val_accuracy: 0.6167\n",
      "Epoch 24/100\n",
      "8/8 [==============================] - 0s 5ms/step - loss: 0.6391 - accuracy: 0.6611 - val_loss: 0.6247 - val_accuracy: 0.6167\n",
      "Epoch 25/100\n",
      "8/8 [==============================] - 0s 5ms/step - loss: 0.6092 - accuracy: 0.6736 - val_loss: 0.6236 - val_accuracy: 0.6167\n",
      "Epoch 26/100\n",
      "8/8 [==============================] - 0s 5ms/step - loss: 0.6026 - accuracy: 0.6653 - val_loss: 0.6232 - val_accuracy: 0.6167\n",
      "Epoch 27/100\n",
      "8/8 [==============================] - 0s 5ms/step - loss: 0.6167 - accuracy: 0.6946 - val_loss: 0.6232 - val_accuracy: 0.6167\n",
      "Epoch 28/100\n",
      "8/8 [==============================] - 0s 5ms/step - loss: 0.6058 - accuracy: 0.6778 - val_loss: 0.6228 - val_accuracy: 0.6167\n",
      "Epoch 29/100\n",
      "8/8 [==============================] - 0s 5ms/step - loss: 0.5953 - accuracy: 0.6862 - val_loss: 0.6222 - val_accuracy: 0.6167\n",
      "Epoch 30/100\n",
      "8/8 [==============================] - 0s 5ms/step - loss: 0.6064 - accuracy: 0.6946 - val_loss: 0.6215 - val_accuracy: 0.6167\n",
      "Epoch 31/100\n",
      "8/8 [==============================] - 0s 5ms/step - loss: 0.5818 - accuracy: 0.6904 - val_loss: 0.6213 - val_accuracy: 0.6167\n",
      "Epoch 32/100\n",
      "8/8 [==============================] - 0s 5ms/step - loss: 0.6039 - accuracy: 0.6904 - val_loss: 0.6205 - val_accuracy: 0.6167\n",
      "Epoch 33/100\n",
      "8/8 [==============================] - 0s 5ms/step - loss: 0.6147 - accuracy: 0.6862 - val_loss: 0.6198 - val_accuracy: 0.6167\n",
      "Epoch 34/100\n",
      "8/8 [==============================] - 0s 5ms/step - loss: 0.5871 - accuracy: 0.6778 - val_loss: 0.6200 - val_accuracy: 0.6167\n",
      "Epoch 35/100\n",
      "8/8 [==============================] - 0s 5ms/step - loss: 0.5887 - accuracy: 0.6862 - val_loss: 0.6195 - val_accuracy: 0.6167\n",
      "Epoch 36/100\n",
      "8/8 [==============================] - 0s 5ms/step - loss: 0.5874 - accuracy: 0.6653 - val_loss: 0.6196 - val_accuracy: 0.6167\n",
      "Epoch 37/100\n",
      "8/8 [==============================] - 0s 5ms/step - loss: 0.6037 - accuracy: 0.6987 - val_loss: 0.6189 - val_accuracy: 0.6167\n",
      "Epoch 38/100\n",
      "8/8 [==============================] - 0s 4ms/step - loss: 0.5804 - accuracy: 0.6820 - val_loss: 0.6186 - val_accuracy: 0.6167\n",
      "Epoch 39/100\n",
      "8/8 [==============================] - 0s 5ms/step - loss: 0.6044 - accuracy: 0.6820 - val_loss: 0.6182 - val_accuracy: 0.6167\n",
      "Epoch 40/100\n",
      "8/8 [==============================] - 0s 5ms/step - loss: 0.5786 - accuracy: 0.7029 - val_loss: 0.6171 - val_accuracy: 0.6167\n",
      "Epoch 41/100\n",
      "8/8 [==============================] - ETA: 0s - loss: 0.5470 - accuracy: 0.68 - 0s 5ms/step - loss: 0.6057 - accuracy: 0.6820 - val_loss: 0.6161 - val_accuracy: 0.6167\n",
      "Epoch 42/100\n",
      "8/8 [==============================] - 0s 5ms/step - loss: 0.5715 - accuracy: 0.6820 - val_loss: 0.6160 - val_accuracy: 0.6167\n",
      "Epoch 43/100\n",
      "8/8 [==============================] - 0s 5ms/step - loss: 0.5773 - accuracy: 0.6946 - val_loss: 0.6150 - val_accuracy: 0.6167\n",
      "Epoch 44/100\n",
      "8/8 [==============================] - 0s 5ms/step - loss: 0.5751 - accuracy: 0.6778 - val_loss: 0.6145 - val_accuracy: 0.6167\n",
      "Epoch 45/100\n",
      "8/8 [==============================] - 0s 6ms/step - loss: 0.5812 - accuracy: 0.6862 - val_loss: 0.6142 - val_accuracy: 0.6167\n",
      "Epoch 46/100\n",
      "8/8 [==============================] - 0s 5ms/step - loss: 0.5862 - accuracy: 0.6820 - val_loss: 0.6142 - val_accuracy: 0.6167\n",
      "Epoch 47/100\n",
      "8/8 [==============================] - 0s 5ms/step - loss: 0.5820 - accuracy: 0.6862 - val_loss: 0.6139 - val_accuracy: 0.6167\n",
      "Epoch 48/100\n",
      "8/8 [==============================] - 0s 4ms/step - loss: 0.5756 - accuracy: 0.6987 - val_loss: 0.6137 - val_accuracy: 0.6167\n",
      "Epoch 49/100\n",
      "8/8 [==============================] - 0s 5ms/step - loss: 0.5612 - accuracy: 0.6862 - val_loss: 0.6127 - val_accuracy: 0.6167\n",
      "Epoch 50/100\n",
      "8/8 [==============================] - 0s 5ms/step - loss: 0.5500 - accuracy: 0.7029 - val_loss: 0.6123 - val_accuracy: 0.6167\n",
      "Epoch 51/100\n",
      "8/8 [==============================] - 0s 5ms/step - loss: 0.5834 - accuracy: 0.6611 - val_loss: 0.6122 - val_accuracy: 0.6167\n",
      "Epoch 52/100\n",
      "8/8 [==============================] - 0s 5ms/step - loss: 0.5770 - accuracy: 0.6862 - val_loss: 0.6118 - val_accuracy: 0.6167\n",
      "Epoch 53/100\n",
      "8/8 [==============================] - 0s 5ms/step - loss: 0.5600 - accuracy: 0.6904 - val_loss: 0.6113 - val_accuracy: 0.6167\n",
      "Epoch 54/100\n",
      "8/8 [==============================] - 0s 6ms/step - loss: 0.5750 - accuracy: 0.7029 - val_loss: 0.6112 - val_accuracy: 0.6167\n",
      "Epoch 55/100\n",
      "8/8 [==============================] - 0s 4ms/step - loss: 0.5738 - accuracy: 0.6904 - val_loss: 0.6104 - val_accuracy: 0.6167\n",
      "Epoch 56/100\n",
      "8/8 [==============================] - 0s 4ms/step - loss: 0.5845 - accuracy: 0.6987 - val_loss: 0.6101 - val_accuracy: 0.6167\n",
      "Epoch 57/100\n",
      "8/8 [==============================] - 0s 5ms/step - loss: 0.5760 - accuracy: 0.6946 - val_loss: 0.6098 - val_accuracy: 0.6167\n",
      "Epoch 58/100\n",
      "8/8 [==============================] - 0s 5ms/step - loss: 0.5551 - accuracy: 0.6862 - val_loss: 0.6101 - val_accuracy: 0.6167\n",
      "Epoch 59/100\n"
     ]
    },
    {
     "name": "stdout",
     "output_type": "stream",
     "text": [
      "8/8 [==============================] - 0s 5ms/step - loss: 0.5606 - accuracy: 0.6946 - val_loss: 0.6100 - val_accuracy: 0.6167\n",
      "Epoch 60/100\n",
      "8/8 [==============================] - 0s 5ms/step - loss: 0.5525 - accuracy: 0.6904 - val_loss: 0.6096 - val_accuracy: 0.6167\n",
      "Epoch 61/100\n",
      "8/8 [==============================] - 0s 4ms/step - loss: 0.5835 - accuracy: 0.6946 - val_loss: 0.6096 - val_accuracy: 0.6167\n",
      "Epoch 62/100\n",
      "8/8 [==============================] - 0s 4ms/step - loss: 0.5503 - accuracy: 0.6987 - val_loss: 0.6092 - val_accuracy: 0.6167\n",
      "Epoch 63/100\n",
      "8/8 [==============================] - 0s 5ms/step - loss: 0.5773 - accuracy: 0.6695 - val_loss: 0.6082 - val_accuracy: 0.6167\n",
      "Epoch 64/100\n",
      "8/8 [==============================] - 0s 4ms/step - loss: 0.5737 - accuracy: 0.7113 - val_loss: 0.6082 - val_accuracy: 0.6167\n",
      "Epoch 65/100\n",
      "8/8 [==============================] - 0s 4ms/step - loss: 0.5665 - accuracy: 0.7071 - val_loss: 0.6076 - val_accuracy: 0.6333\n",
      "Epoch 66/100\n",
      "8/8 [==============================] - 0s 5ms/step - loss: 0.5883 - accuracy: 0.6862 - val_loss: 0.6072 - val_accuracy: 0.6333\n",
      "Epoch 67/100\n",
      "8/8 [==============================] - 0s 6ms/step - loss: 0.5632 - accuracy: 0.6946 - val_loss: 0.6073 - val_accuracy: 0.6333\n",
      "Epoch 68/100\n",
      "8/8 [==============================] - 0s 5ms/step - loss: 0.5562 - accuracy: 0.7029 - val_loss: 0.6069 - val_accuracy: 0.6333\n",
      "Epoch 69/100\n",
      "8/8 [==============================] - 0s 5ms/step - loss: 0.5824 - accuracy: 0.6862 - val_loss: 0.6075 - val_accuracy: 0.6333\n",
      "Epoch 70/100\n",
      "8/8 [==============================] - 0s 5ms/step - loss: 0.5600 - accuracy: 0.6987 - val_loss: 0.6073 - val_accuracy: 0.6333\n",
      "Epoch 71/100\n",
      "8/8 [==============================] - 0s 5ms/step - loss: 0.5433 - accuracy: 0.6987 - val_loss: 0.6074 - val_accuracy: 0.6333\n",
      "Epoch 72/100\n",
      "8/8 [==============================] - 0s 5ms/step - loss: 0.5679 - accuracy: 0.6904 - val_loss: 0.6076 - val_accuracy: 0.6167\n",
      "Epoch 73/100\n",
      "8/8 [==============================] - 0s 5ms/step - loss: 0.5468 - accuracy: 0.6987 - val_loss: 0.6068 - val_accuracy: 0.6333\n",
      "Epoch 74/100\n",
      "8/8 [==============================] - 0s 5ms/step - loss: 0.5642 - accuracy: 0.6904 - val_loss: 0.6066 - val_accuracy: 0.6333\n",
      "Epoch 75/100\n",
      "8/8 [==============================] - 0s 9ms/step - loss: 0.5514 - accuracy: 0.7113 - val_loss: 0.6064 - val_accuracy: 0.6333\n",
      "Epoch 76/100\n",
      "8/8 [==============================] - 0s 7ms/step - loss: 0.5296 - accuracy: 0.6820 - val_loss: 0.6069 - val_accuracy: 0.6333\n",
      "Epoch 77/100\n",
      "8/8 [==============================] - 0s 5ms/step - loss: 0.5590 - accuracy: 0.6987 - val_loss: 0.6063 - val_accuracy: 0.6333\n",
      "Epoch 78/100\n",
      "8/8 [==============================] - 0s 5ms/step - loss: 0.5574 - accuracy: 0.7029 - val_loss: 0.6063 - val_accuracy: 0.6333\n",
      "Epoch 79/100\n",
      "8/8 [==============================] - 0s 4ms/step - loss: 0.5480 - accuracy: 0.6987 - val_loss: 0.6058 - val_accuracy: 0.6333\n",
      "Epoch 80/100\n",
      "8/8 [==============================] - 0s 5ms/step - loss: 0.5460 - accuracy: 0.6987 - val_loss: 0.6059 - val_accuracy: 0.6333\n",
      "Epoch 81/100\n",
      "8/8 [==============================] - 0s 4ms/step - loss: 0.5601 - accuracy: 0.7029 - val_loss: 0.6052 - val_accuracy: 0.6333\n",
      "Epoch 82/100\n",
      "8/8 [==============================] - 0s 5ms/step - loss: 0.5421 - accuracy: 0.6862 - val_loss: 0.6051 - val_accuracy: 0.6333\n",
      "Epoch 83/100\n",
      "8/8 [==============================] - 0s 5ms/step - loss: 0.5245 - accuracy: 0.6946 - val_loss: 0.6055 - val_accuracy: 0.6333\n",
      "Epoch 84/100\n",
      "8/8 [==============================] - 0s 5ms/step - loss: 0.5482 - accuracy: 0.6904 - val_loss: 0.6054 - val_accuracy: 0.6333\n",
      "Epoch 85/100\n",
      "8/8 [==============================] - 0s 5ms/step - loss: 0.5392 - accuracy: 0.6904 - val_loss: 0.6053 - val_accuracy: 0.6333\n",
      "Epoch 86/100\n",
      "8/8 [==============================] - 0s 5ms/step - loss: 0.5332 - accuracy: 0.7113 - val_loss: 0.6055 - val_accuracy: 0.6333\n",
      "Epoch 87/100\n",
      "8/8 [==============================] - 0s 5ms/step - loss: 0.5631 - accuracy: 0.7029 - val_loss: 0.6053 - val_accuracy: 0.6333\n",
      "Epoch 88/100\n",
      "8/8 [==============================] - 0s 5ms/step - loss: 0.5340 - accuracy: 0.6946 - val_loss: 0.6048 - val_accuracy: 0.6333\n",
      "Epoch 89/100\n",
      "8/8 [==============================] - 0s 5ms/step - loss: 0.5125 - accuracy: 0.7113 - val_loss: 0.6046 - val_accuracy: 0.6333\n",
      "Epoch 90/100\n",
      "8/8 [==============================] - 0s 5ms/step - loss: 0.5503 - accuracy: 0.6946 - val_loss: 0.6049 - val_accuracy: 0.6333\n",
      "Epoch 91/100\n",
      "8/8 [==============================] - 0s 5ms/step - loss: 0.5343 - accuracy: 0.7071 - val_loss: 0.6040 - val_accuracy: 0.6333\n",
      "Epoch 92/100\n",
      "8/8 [==============================] - 0s 5ms/step - loss: 0.5452 - accuracy: 0.6904 - val_loss: 0.6041 - val_accuracy: 0.6333\n",
      "Epoch 93/100\n",
      "8/8 [==============================] - 0s 5ms/step - loss: 0.5385 - accuracy: 0.6987 - val_loss: 0.6044 - val_accuracy: 0.6333\n",
      "Epoch 94/100\n",
      "8/8 [==============================] - 0s 5ms/step - loss: 0.5230 - accuracy: 0.7029 - val_loss: 0.6037 - val_accuracy: 0.6333\n",
      "Epoch 95/100\n",
      "8/8 [==============================] - 0s 5ms/step - loss: 0.5213 - accuracy: 0.6862 - val_loss: 0.6037 - val_accuracy: 0.6333\n",
      "Epoch 96/100\n",
      "8/8 [==============================] - 0s 6ms/step - loss: 0.5435 - accuracy: 0.7029 - val_loss: 0.6037 - val_accuracy: 0.6333\n",
      "Epoch 97/100\n",
      "8/8 [==============================] - 0s 5ms/step - loss: 0.5381 - accuracy: 0.6904 - val_loss: 0.6039 - val_accuracy: 0.6333\n",
      "Epoch 98/100\n",
      "8/8 [==============================] - 0s 5ms/step - loss: 0.4983 - accuracy: 0.7113 - val_loss: 0.6044 - val_accuracy: 0.6333\n",
      "Epoch 99/100\n",
      "8/8 [==============================] - 0s 5ms/step - loss: 0.5339 - accuracy: 0.6946 - val_loss: 0.6036 - val_accuracy: 0.6333\n",
      "Epoch 100/100\n",
      "8/8 [==============================] - 0s 5ms/step - loss: 0.5451 - accuracy: 0.6987 - val_loss: 0.6033 - val_accuracy: 0.6333\n"
     ]
    },
    {
     "data": {
      "image/png": "[encoded data removed]",
      "text/plain": [
       "<Figure size 1080x720 with 1 Axes>"
      ]
     },
     "metadata": {
      "needs_background": "light"
     },
     "output_type": "display_data"
    }
   ],
   "source": [
    "model = Sequential()\n",
    "model.add(Dense(units=16, kernel_initializer='glorot_uniform', activation='relu', input_dim=12))\n",
    "model.add(Dense(units=8, kernel_initializer='glorot_uniform', activation='relu'))\n",
    "model.add(Dropout(0.25))\n",
    "model.add(Dense(units=4, kernel_initializer='glorot_uniform', activation='relu'))\n",
    "model.add(Dropout(0.25))\n",
    "model.add(Dense(units=1, kernel_initializer='glorot_uniform', activation='sigmoid'))\n",
    "model.compile(optimizer='sgd', loss='binary_crossentropy', metrics=['accuracy'])\n",
    "history = model.fit(xtrain, ytrain, validation_data=(xtest,ytest), batch_size=32, epochs=100)\n",
    "history = pd.DataFrame(history.history)\n",
    "plt.plot(history.loss)\n",
    "plt.plot(history.val_loss)\n",
    "plt.show()"
   ]
  },
  {
   "cell_type": "code",
   "execution_count": 25,
   "metadata": {},
   "outputs": [
    {
     "data": {
      "text/plain": [
       "0.6854811680316925"
      ]
     },
     "execution_count": 25,
     "metadata": {},
     "output_type": "execute_result"
    }
   ],
   "source": [
    "history.accuracy.mean()"
   ]
  },
  {
   "cell_type": "code",
   "execution_count": null,
   "metadata": {},
   "outputs": [],
   "source": []
  }
 ],
 "metadata": {
  "colab": {
   "collapsed_sections": [],
   "name": "Artificial Neural Network-3.ipynb",
   "provenance": []
  },
  "kernelspec": {
   "display_name": "Python 3",
   "language": "python",
   "name": "python3"
  },
  "language_info": {
   "codemirror_mode": {
    "name": "ipython",
    "version": 3
   },
   "file_extension": ".py",
   "mimetype": "text/x-python",
   "name": "python",
   "nbconvert_exporter": "python",
   "pygments_lexer": "ipython3",
   "version": "3.8.8"
  }
 },
 "nbformat": 4,
 "nbformat_minor": 1
}
