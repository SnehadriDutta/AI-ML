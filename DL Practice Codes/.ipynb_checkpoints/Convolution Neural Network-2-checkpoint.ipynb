{
 "cells": [
  {
   "cell_type": "code",
   "execution_count": 2,
   "id": "9e5596b5",
   "metadata": {},
   "outputs": [],
   "source": [
    "import numpy as np\n",
    "import matplotlib.pyplot as plt\n",
    "import tensorflow as tf\n",
    "from tensorflow.keras.models import Model\n",
    "from tensorflow.keras.layers import Input, Conv2D, Dense, Flatten, Dropout, GlobalMaxPooling2D"
   ]
  },
  {
   "cell_type": "code",
   "execution_count": 3,
   "id": "d67e573b",
   "metadata": {},
   "outputs": [
    {
     "name": "stdout",
     "output_type": "stream",
     "text": [
      "Downloading data from https://www.cs.toronto.edu/~kriz/cifar-10-python.tar.gz\n",
      "170500096/170498071 [==============================] - 65s 0us/step\n",
      "170508288/170498071 [==============================] - 65s 0us/step\n"
     ]
    }
   ],
   "source": [
    "cifar = tf.keras.datasets.cifar10\n",
    "\n",
    "(xtrain,ytrain), (xtest,ytest) = cifar.load_data()\n",
    "xtrain, xtest = xtrain/255.0, xtest/255.0\n",
    "ytrain,ytest = ytrain.flatten(), ytest.flatten()"
   ]
  },
  {
   "cell_type": "code",
   "execution_count": 4,
   "id": "36ce9cfa",
   "metadata": {},
   "outputs": [
    {
     "data": {
      "text/plain": [
       "10"
      ]
     },
     "execution_count": 4,
     "metadata": {},
     "output_type": "execute_result"
    }
   ],
   "source": [
    "K = len(set(ytrain))\n",
    "K"
   ]
  },
  {
   "cell_type": "code",
   "execution_count": 8,
   "id": "946fcee9",
   "metadata": {},
   "outputs": [],
   "source": [
    "## Building model using Functional API\n",
    "\n",
    "i = Input(shape = xtrain[0].shape)\n",
    "x = Conv2D(32, (3,3), strides=2, activation = 'relu')(i)\n",
    "x = Conv2D(64, (3,3), strides=2, activation = 'relu')(x)\n",
    "x = Conv2D(128, (3,3), strides=2, activation = 'relu')(x)\n",
    "x = Flatten()(x)\n",
    "x = Dropout(0.3)(x)\n",
    "x = Dense(1024, activation = 'relu')(x)\n",
    "x = Dropout(0.2)(x)\n",
    "x = Dense(K, activation='softmax')(x)\n",
    "model = Model(i,x)"
   ]
  },
  {
   "cell_type": "code",
   "execution_count": 9,
   "id": "14995106",
   "metadata": {},
   "outputs": [
    {
     "name": "stdout",
     "output_type": "stream",
     "text": [
      "Epoch 1/15\n",
      "1563/1563 [==============================] - 45s 19ms/step - loss: 1.5352 - accuracy: 0.4374 - val_loss: 1.2637 - val_accuracy: 0.5388\n",
      "Epoch 2/15\n",
      "1563/1563 [==============================] - 29s 19ms/step - loss: 1.2062 - accuracy: 0.5681 - val_loss: 1.0876 - val_accuracy: 0.6151\n",
      "Epoch 3/15\n",
      "1563/1563 [==============================] - 30s 19ms/step - loss: 1.0475 - accuracy: 0.6269 - val_loss: 1.0001 - val_accuracy: 0.6459\n",
      "Epoch 4/15\n",
      "1563/1563 [==============================] - 30s 19ms/step - loss: 0.9342 - accuracy: 0.6692 - val_loss: 0.9662 - val_accuracy: 0.6518\n",
      "Epoch 5/15\n",
      "1563/1563 [==============================] - 30s 19ms/step - loss: 0.8376 - accuracy: 0.7018 - val_loss: 0.8768 - val_accuracy: 0.6945\n",
      "Epoch 6/15\n",
      "1563/1563 [==============================] - 30s 19ms/step - loss: 0.7573 - accuracy: 0.7306 - val_loss: 0.8867 - val_accuracy: 0.6883\n",
      "Epoch 7/15\n",
      "1563/1563 [==============================] - 31s 20ms/step - loss: 0.6869 - accuracy: 0.7552 - val_loss: 0.8480 - val_accuracy: 0.7052\n",
      "Epoch 8/15\n",
      "1563/1563 [==============================] - 30s 19ms/step - loss: 0.6308 - accuracy: 0.7737 - val_loss: 0.8559 - val_accuracy: 0.7080\n",
      "Epoch 9/15\n",
      "1563/1563 [==============================] - 31s 20ms/step - loss: 0.5747 - accuracy: 0.7957 - val_loss: 0.8698 - val_accuracy: 0.7066\n",
      "Epoch 10/15\n",
      "1563/1563 [==============================] - 30s 19ms/step - loss: 0.5312 - accuracy: 0.8106 - val_loss: 0.8482 - val_accuracy: 0.7130\n",
      "Epoch 11/15\n",
      "1563/1563 [==============================] - 30s 19ms/step - loss: 0.4915 - accuracy: 0.8230 - val_loss: 0.8688 - val_accuracy: 0.7186\n",
      "Epoch 12/15\n",
      "1563/1563 [==============================] - 30s 19ms/step - loss: 0.4548 - accuracy: 0.8385 - val_loss: 0.8776 - val_accuracy: 0.7194\n",
      "Epoch 13/15\n",
      "1563/1563 [==============================] - 30s 19ms/step - loss: 0.4249 - accuracy: 0.8496 - val_loss: 0.9097 - val_accuracy: 0.7163\n",
      "Epoch 14/15\n",
      "1563/1563 [==============================] - 30s 19ms/step - loss: 0.4033 - accuracy: 0.8581 - val_loss: 0.9092 - val_accuracy: 0.7102\n",
      "Epoch 15/15\n",
      "1563/1563 [==============================] - 30s 19ms/step - loss: 0.3842 - accuracy: 0.8641 - val_loss: 0.9449 - val_accuracy: 0.7123\n"
     ]
    }
   ],
   "source": [
    "model.compile(optimizer='adam', loss = 'sparse_categorical_crossentropy', metrics = ['accuracy'])\n",
    "r = model.fit(xtrain,ytrain, validation_data = (xtest,ytest), epochs=15)"
   ]
  },
  {
   "cell_type": "code",
   "execution_count": 10,
   "id": "6b6d38d3",
   "metadata": {},
   "outputs": [
    {
     "data": {
      "text/plain": [
       "(50000, 32, 32, 3)"
      ]
     },
     "execution_count": 10,
     "metadata": {},
     "output_type": "execute_result"
    }
   ],
   "source": [
    "xtrain.shape"
   ]
  },
  {
   "cell_type": "code",
   "execution_count": 11,
   "id": "3c1210c9",
   "metadata": {},
   "outputs": [
    {
     "data": {
      "text/plain": [
       "<matplotlib.legend.Legend at 0x20a1726efd0>"
      ]
     },
     "execution_count": 11,
     "metadata": {},
     "output_type": "execute_result"
    },
    {
     "data": {
      "image/png": "[encoded data removed]",
      "text/plain": [
       "<Figure size 432x288 with 1 Axes>"
      ]
     },
     "metadata": {
      "needs_background": "light"
     },
     "output_type": "display_data"
    }
   ],
   "source": [
    "plt.plot(r.history['loss'], label = 'loss')\n",
    "plt.plot(r.history['val_loss'], label = 'val_loss')\n",
    "plt.legend()"
   ]
  },
  {
   "cell_type": "code",
   "execution_count": 14,
   "id": "4b68164d",
   "metadata": {},
   "outputs": [
    {
     "data": {
      "text/plain": [
       "<matplotlib.legend.Legend at 0x20a154c87c0>"
      ]
     },
     "execution_count": 14,
     "metadata": {},
     "output_type": "execute_result"
    },
    {
     "data": {
      "image/png": "[encoded data removed]",
      "text/plain": [
       "<Figure size 432x288 with 1 Axes>"
      ]
     },
     "metadata": {
      "needs_background": "light"
     },
     "output_type": "display_data"
    }
   ],
   "source": [
    "plt.plot(r.history['accuracy'], label = 'accuracy')\n",
    "plt.plot(r.history['val_accuracy'], label = 'Val_accuracy')\n",
    "plt.legend()"
   ]
  },
  {
   "cell_type": "code",
   "execution_count": 16,
   "id": "076d3425",
   "metadata": {},
   "outputs": [],
   "source": [
    "from tensorflow.keras.layers import BatchNormalization , MaxPooling2D"
   ]
  },
  {
   "cell_type": "code",
   "execution_count": 17,
   "id": "dcd80cfa",
   "metadata": {},
   "outputs": [],
   "source": [
    "# Building model using functional API with Pooling\n",
    "\n",
    "i = Input(shape = xtrain[0].shape)\n",
    "x = Conv2D(32, (3,3), activation='relu', padding = 'same')(i)\n",
    "x = BatchNormalization()(x)\n",
    "x = Conv2D(32, (3,3), activation='relu', padding = 'same')(x)\n",
    "x = BatchNormalization()(x)\n",
    "x = MaxPooling2D((2,2))(x)\n",
    "\n",
    "x = Conv2D(64, (3,3), activation='relu', padding = 'same')(x)\n",
    "x = BatchNormalization()(x)\n",
    "x = Conv2D(64, (3,3), activation='relu', padding = 'same')(x)\n",
    "x = BatchNormalization()(x)\n",
    "x = MaxPooling2D((2,2))(x)\n",
    "\n",
    "x = Conv2D(128, (3,3), activation='relu', padding = 'same')(x)\n",
    "x = BatchNormalization()(x)\n",
    "x = Conv2D(128, (3,3), activation='relu', padding = 'same')(x)\n",
    "x = BatchNormalization()(x)\n",
    "x = MaxPooling2D((2,2))(x)\n",
    "\n",
    "x = Flatten()(x)\n",
    "x = Dropout(0.2)(x)\n",
    "x = Dense(1024, activation='relu')(x)\n",
    "x = Dropout(0.2)(x)\n",
    "x = Dense(K, activation='softmax')(x)\n",
    "\n",
    "model = Model(i,x)"
   ]
  },
  {
   "cell_type": "code",
   "execution_count": 19,
   "id": "192ab99b",
   "metadata": {},
   "outputs": [
    {
     "name": "stdout",
     "output_type": "stream",
     "text": [
      "Epoch 1/15\n",
      "1563/1563 [==============================] - 277s 175ms/step - loss: 1.2865 - accuracy: 0.5545 - val_loss: 0.9737 - val_accuracy: 0.6626\n",
      "Epoch 2/15\n",
      "1563/1563 [==============================] - 272s 174ms/step - loss: 0.8456 - accuracy: 0.7067 - val_loss: 0.8880 - val_accuracy: 0.6983\n",
      "Epoch 3/15\n",
      "1563/1563 [==============================] - 272s 174ms/step - loss: 0.6864 - accuracy: 0.7645 - val_loss: 1.0005 - val_accuracy: 0.6681\n",
      "Epoch 4/15\n",
      "1563/1563 [==============================] - 272s 174ms/step - loss: 0.5819 - accuracy: 0.7999 - val_loss: 0.6838 - val_accuracy: 0.7800\n",
      "Epoch 5/15\n",
      "1563/1563 [==============================] - 275s 176ms/step - loss: 0.4963 - accuracy: 0.8295 - val_loss: 0.6933 - val_accuracy: 0.7749\n",
      "Epoch 6/15\n",
      "1563/1563 [==============================] - 272s 174ms/step - loss: 0.4247 - accuracy: 0.8553 - val_loss: 0.6283 - val_accuracy: 0.8015\n",
      "Epoch 7/15\n",
      "1563/1563 [==============================] - 272s 174ms/step - loss: 0.3547 - accuracy: 0.8784 - val_loss: 0.6417 - val_accuracy: 0.8043\n",
      "Epoch 8/15\n",
      "1563/1563 [==============================] - 270s 173ms/step - loss: 0.3073 - accuracy: 0.8953 - val_loss: 0.6790 - val_accuracy: 0.7991\n",
      "Epoch 9/15\n",
      "1563/1563 [==============================] - 280s 179ms/step - loss: 0.2589 - accuracy: 0.9108 - val_loss: 0.6216 - val_accuracy: 0.8254\n",
      "Epoch 10/15\n",
      "1563/1563 [==============================] - 269s 172ms/step - loss: 0.2252 - accuracy: 0.9232 - val_loss: 0.6724 - val_accuracy: 0.8104\n",
      "Epoch 11/15\n",
      "1563/1563 [==============================] - 269s 172ms/step - loss: 0.1974 - accuracy: 0.9319 - val_loss: 0.6973 - val_accuracy: 0.8121\n",
      "Epoch 12/15\n",
      "1563/1563 [==============================] - 283s 181ms/step - loss: 0.1758 - accuracy: 0.9398 - val_loss: 0.7010 - val_accuracy: 0.8206\n",
      "Epoch 13/15\n",
      "1563/1563 [==============================] - 280s 179ms/step - loss: 0.1573 - accuracy: 0.9470 - val_loss: 0.7148 - val_accuracy: 0.8182\n",
      "Epoch 14/15\n",
      "1563/1563 [==============================] - 275s 176ms/step - loss: 0.1442 - accuracy: 0.9523 - val_loss: 0.6531 - val_accuracy: 0.8279\n",
      "Epoch 15/15\n",
      "1563/1563 [==============================] - 268s 172ms/step - loss: 0.1315 - accuracy: 0.9550 - val_loss: 0.6811 - val_accuracy: 0.8304\n"
     ]
    }
   ],
   "source": [
    "model.compile(optimizer='adam', loss='sparse_categorical_crossentropy', metrics=['accuracy'])\n",
    "r = model.fit(xtrain,ytrain, validation_data = (xtest,ytest), epochs=15)"
   ]
  },
  {
   "cell_type": "code",
   "execution_count": null,
   "id": "3c11b2b2",
   "metadata": {},
   "outputs": [],
   "source": []
  }
 ],
 "metadata": {
  "kernelspec": {
   "display_name": "Python 3",
   "language": "python",
   "name": "python3"
  },
  "language_info": {
   "codemirror_mode": {
    "name": "ipython",
    "version": 3
   },
   "file_extension": ".py",
   "mimetype": "text/x-python",
   "name": "python",
   "nbconvert_exporter": "python",
   "pygments_lexer": "ipython3",
   "version": "3.8.8"
  }
 },
 "nbformat": 4,
 "nbformat_minor": 5
}
